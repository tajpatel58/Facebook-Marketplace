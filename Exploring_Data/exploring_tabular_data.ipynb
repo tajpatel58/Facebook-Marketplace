{
 "cells": [
  {
   "cell_type": "markdown",
   "metadata": {},
   "source": [
    "# Exploring and Cleaning the Products Data:"
   ]
  },
  {
   "cell_type": "markdown",
   "metadata": {},
   "source": [
    "Import relevant packages:"
   ]
  },
  {
   "cell_type": "code",
   "execution_count": 109,
   "metadata": {},
   "outputs": [],
   "source": [
    "import pandas as pd\n",
    "import numpy as np\n",
    "from collections import Counter\n",
    "import copy \n",
    "import statistics\n",
    "from collections import defaultdict\n",
    "from geopy.geocoders import Nominatim\n",
    "import random\n",
    "from typing import List, Tuple, Optional\n",
    "import matplotlib.pyplot as plt\n",
    "from tqdm import tqdm\n",
    "import seaborn as sns\n",
    "pd.set_option('display.max_colwidth', 100)"
   ]
  },
  {
   "cell_type": "markdown",
   "metadata": {},
   "source": [
    "Read in Data:"
   ]
  },
  {
   "cell_type": "code",
   "execution_count": 110,
   "metadata": {},
   "outputs": [],
   "source": [
    "products = pd.read_csv('../Raw_Data/products.csv', lineterminator='\\n')"
   ]
  },
  {
   "cell_type": "markdown",
   "metadata": {},
   "source": [
    "##### Exploring Data:"
   ]
  },
  {
   "cell_type": "code",
   "execution_count": 111,
   "metadata": {},
   "outputs": [
    {
     "data": {
      "text/html": [
       "<div>\n",
       "<style scoped>\n",
       "    .dataframe tbody tr th:only-of-type {\n",
       "        vertical-align: middle;\n",
       "    }\n",
       "\n",
       "    .dataframe tbody tr th {\n",
       "        vertical-align: top;\n",
       "    }\n",
       "\n",
       "    .dataframe thead th {\n",
       "        text-align: right;\n",
       "    }\n",
       "</style>\n",
       "<table border=\"1\" class=\"dataframe\">\n",
       "  <thead>\n",
       "    <tr style=\"text-align: right;\">\n",
       "      <th></th>\n",
       "      <th>id</th>\n",
       "      <th>product_name</th>\n",
       "      <th>category</th>\n",
       "      <th>product_description</th>\n",
       "      <th>price</th>\n",
       "      <th>location</th>\n",
       "      <th>page_id</th>\n",
       "      <th>create_time</th>\n",
       "    </tr>\n",
       "  </thead>\n",
       "  <tbody>\n",
       "    <tr>\n",
       "      <th>0</th>\n",
       "      <td>ac2140ae-f0d5-4fe7-ac08-df0f109fd734</td>\n",
       "      <td>Second-Hand Sofas, Couches &amp; Armchairs for Sale in Kilmarnock, East Ayrshire | Gumtree</td>\n",
       "      <td>NaN</td>\n",
       "      <td>NaN</td>\n",
       "      <td>NaN</td>\n",
       "      <td>NaN</td>\n",
       "      <td>1426592234</td>\n",
       "      <td>2022-02-26</td>\n",
       "    </tr>\n",
       "    <tr>\n",
       "      <th>1</th>\n",
       "      <td>243809c0-9cfc-4486-ad12-3b7a16605ba9</td>\n",
       "      <td>Mirror wall art | in Wokingham, Berkshire | Gumtree</td>\n",
       "      <td>Home &amp; Garden / Dining, Living Room Furniture / Mirrors, Clocks &amp; Ornaments</td>\n",
       "      <td>Mirror wall art. Posted by Nisha in Dining, Living Room Furniture, Mirrors, Clocks &amp; Ornaments i...</td>\n",
       "      <td>£5.00</td>\n",
       "      <td>Wokingham, Berkshire</td>\n",
       "      <td>1426704584</td>\n",
       "      <td>2022-02-26</td>\n",
       "    </tr>\n",
       "    <tr>\n",
       "      <th>2</th>\n",
       "      <td>1c58d3f9-8b93-47ea-9415-204fcc2a22e6</td>\n",
       "      <td>Stainless Steel Food Steamer | in Inverness, Highland | Gumtree</td>\n",
       "      <td>Home &amp; Garden / Other Household Goods</td>\n",
       "      <td>Morphy Richard’s (model no 48755)Stainless steel 3 tier stackable food steamer9 litre capacity 1...</td>\n",
       "      <td>£20.00</td>\n",
       "      <td>Inverness, Highland</td>\n",
       "      <td>1426704579</td>\n",
       "      <td>2022-02-26</td>\n",
       "    </tr>\n",
       "    <tr>\n",
       "      <th>3</th>\n",
       "      <td>860673f1-57f6-47ba-8d2f-13f9e05b8f9a</td>\n",
       "      <td>Sun loungers | in Skegness, Lincolnshire | Gumtree</td>\n",
       "      <td>Home &amp; Garden / Garden &amp; Patio / Outdoor Settings &amp; Furniture</td>\n",
       "      <td>I have 2 of these - collection only as I don’t drive. £20 Ono</td>\n",
       "      <td>£20.00</td>\n",
       "      <td>Skegness, Lincolnshire</td>\n",
       "      <td>1426704576</td>\n",
       "      <td>2022-02-26</td>\n",
       "    </tr>\n",
       "    <tr>\n",
       "      <th>4</th>\n",
       "      <td>59948726-29be-4b35-ade5-bb2fd7331856</td>\n",
       "      <td>Coffee side table from Ammunition ammo box hairpin legs | in Radstock, Somerset | Gumtree</td>\n",
       "      <td>Home &amp; Garden / Dining, Living Room Furniture / Other</td>\n",
       "      <td>Great reclaimed army ammunition box used as coffee side table\\rOriginal text detail, latch's, le...</td>\n",
       "      <td>£115.00</td>\n",
       "      <td>Radstock, Somerset</td>\n",
       "      <td>1426704575</td>\n",
       "      <td>2022-02-26</td>\n",
       "    </tr>\n",
       "  </tbody>\n",
       "</table>\n",
       "</div>"
      ],
      "text/plain": [
       "                                     id                                                                               product_name                                                                     category                                                                                  product_description    price                location     page_id create_time\n",
       "0  ac2140ae-f0d5-4fe7-ac08-df0f109fd734     Second-Hand Sofas, Couches & Armchairs for Sale in Kilmarnock, East Ayrshire | Gumtree                                                                          NaN                                                                                                  NaN      NaN                     NaN  1426592234  2022-02-26\n",
       "1  243809c0-9cfc-4486-ad12-3b7a16605ba9                                        Mirror wall art | in Wokingham, Berkshire | Gumtree  Home & Garden / Dining, Living Room Furniture / Mirrors, Clocks & Ornaments  Mirror wall art. Posted by Nisha in Dining, Living Room Furniture, Mirrors, Clocks & Ornaments i...    £5.00    Wokingham, Berkshire  1426704584  2022-02-26\n",
       "2  1c58d3f9-8b93-47ea-9415-204fcc2a22e6                            Stainless Steel Food Steamer | in Inverness, Highland | Gumtree                                        Home & Garden / Other Household Goods  Morphy Richard’s (model no 48755)Stainless steel 3 tier stackable food steamer9 litre capacity 1...   £20.00     Inverness, Highland  1426704579  2022-02-26\n",
       "3  860673f1-57f6-47ba-8d2f-13f9e05b8f9a                                         Sun loungers | in Skegness, Lincolnshire | Gumtree                Home & Garden / Garden & Patio / Outdoor Settings & Furniture                                       I have 2 of these - collection only as I don’t drive. £20 Ono    £20.00  Skegness, Lincolnshire  1426704576  2022-02-26\n",
       "4  59948726-29be-4b35-ade5-bb2fd7331856  Coffee side table from Ammunition ammo box hairpin legs | in Radstock, Somerset | Gumtree                        Home & Garden / Dining, Living Room Furniture / Other  Great reclaimed army ammunition box used as coffee side table\\rOriginal text detail, latch's, le...  £115.00      Radstock, Somerset  1426704575  2022-02-26"
      ]
     },
     "execution_count": 111,
     "metadata": {},
     "output_type": "execute_result"
    }
   ],
   "source": [
    "products.head()"
   ]
  },
  {
   "cell_type": "code",
   "execution_count": 112,
   "metadata": {},
   "outputs": [
    {
     "name": "stdout",
     "output_type": "stream",
     "text": [
      "<class 'pandas.core.frame.DataFrame'>\n",
      "RangeIndex: 8091 entries, 0 to 8090\n",
      "Data columns (total 8 columns):\n",
      " #   Column               Non-Null Count  Dtype \n",
      "---  ------               --------------  ----- \n",
      " 0   id                   8091 non-null   object\n",
      " 1   product_name         8091 non-null   object\n",
      " 2   category             7156 non-null   object\n",
      " 3   product_description  7156 non-null   object\n",
      " 4   price                7156 non-null   object\n",
      " 5   location             7156 non-null   object\n",
      " 6   page_id              8091 non-null   int64 \n",
      " 7   create_time          8091 non-null   object\n",
      "dtypes: int64(1), object(7)\n",
      "memory usage: 505.8+ KB\n"
     ]
    }
   ],
   "source": [
    "products.info()"
   ]
  },
  {
   "cell_type": "markdown",
   "metadata": {},
   "source": [
    "Plans/Immediate Observations:\n",
    "\n",
    "- Drop rows where any entry is null. On first glance, the Category, Price, Location and Product Description are the useful pieces of information. (Will be the features)\n",
    "- Price altered into an a float32. (Float32 as Pytorch works with Float32)\n",
    "- Could split location into 2 columns: Town and County/City. \n",
    "- The \"category\" field can be split by forward slashes as a product can be included in multiple categories. \n",
    "- Transform this notebook into a script so when new data is streamed in, can be cleaned easily. "
   ]
  },
  {
   "cell_type": "code",
   "execution_count": 113,
   "metadata": {},
   "outputs": [],
   "source": [
    "products_copy = copy.deepcopy(products)\n",
    "products = products.loc[products.isna().sum(axis=1) == 0]\n",
    "products.reset_index(inplace=True, drop=True)"
   ]
  },
  {
   "cell_type": "code",
   "execution_count": 114,
   "metadata": {},
   "outputs": [
    {
     "data": {
      "text/plain": [
       "(7156, 8)"
      ]
     },
     "execution_count": 114,
     "metadata": {},
     "output_type": "execute_result"
    }
   ],
   "source": [
    "products.shape"
   ]
  },
  {
   "cell_type": "code",
   "execution_count": 115,
   "metadata": {},
   "outputs": [
    {
     "data": {
      "text/html": [
       "<div>\n",
       "<style scoped>\n",
       "    .dataframe tbody tr th:only-of-type {\n",
       "        vertical-align: middle;\n",
       "    }\n",
       "\n",
       "    .dataframe tbody tr th {\n",
       "        vertical-align: top;\n",
       "    }\n",
       "\n",
       "    .dataframe thead th {\n",
       "        text-align: right;\n",
       "    }\n",
       "</style>\n",
       "<table border=\"1\" class=\"dataframe\">\n",
       "  <thead>\n",
       "    <tr style=\"text-align: right;\">\n",
       "      <th></th>\n",
       "      <th>id</th>\n",
       "      <th>product_name</th>\n",
       "      <th>category</th>\n",
       "      <th>product_description</th>\n",
       "      <th>price</th>\n",
       "      <th>location</th>\n",
       "      <th>page_id</th>\n",
       "      <th>create_time</th>\n",
       "    </tr>\n",
       "  </thead>\n",
       "  <tbody>\n",
       "    <tr>\n",
       "      <th>0</th>\n",
       "      <td>243809c0-9cfc-4486-ad12-3b7a16605ba9</td>\n",
       "      <td>Mirror wall art | in Wokingham, Berkshire | Gumtree</td>\n",
       "      <td>Home &amp; Garden / Dining, Living Room Furniture / Mirrors, Clocks &amp; Ornaments</td>\n",
       "      <td>Mirror wall art. Posted by Nisha in Dining, Living Room Furniture, Mirrors, Clocks &amp; Ornaments i...</td>\n",
       "      <td>£5.00</td>\n",
       "      <td>Wokingham, Berkshire</td>\n",
       "      <td>1426704584</td>\n",
       "      <td>2022-02-26</td>\n",
       "    </tr>\n",
       "    <tr>\n",
       "      <th>1</th>\n",
       "      <td>1c58d3f9-8b93-47ea-9415-204fcc2a22e6</td>\n",
       "      <td>Stainless Steel Food Steamer | in Inverness, Highland | Gumtree</td>\n",
       "      <td>Home &amp; Garden / Other Household Goods</td>\n",
       "      <td>Morphy Richard’s (model no 48755)Stainless steel 3 tier stackable food steamer9 litre capacity 1...</td>\n",
       "      <td>£20.00</td>\n",
       "      <td>Inverness, Highland</td>\n",
       "      <td>1426704579</td>\n",
       "      <td>2022-02-26</td>\n",
       "    </tr>\n",
       "    <tr>\n",
       "      <th>2</th>\n",
       "      <td>860673f1-57f6-47ba-8d2f-13f9e05b8f9a</td>\n",
       "      <td>Sun loungers | in Skegness, Lincolnshire | Gumtree</td>\n",
       "      <td>Home &amp; Garden / Garden &amp; Patio / Outdoor Settings &amp; Furniture</td>\n",
       "      <td>I have 2 of these - collection only as I don’t drive. £20 Ono</td>\n",
       "      <td>£20.00</td>\n",
       "      <td>Skegness, Lincolnshire</td>\n",
       "      <td>1426704576</td>\n",
       "      <td>2022-02-26</td>\n",
       "    </tr>\n",
       "    <tr>\n",
       "      <th>3</th>\n",
       "      <td>59948726-29be-4b35-ade5-bb2fd7331856</td>\n",
       "      <td>Coffee side table from Ammunition ammo box hairpin legs | in Radstock, Somerset | Gumtree</td>\n",
       "      <td>Home &amp; Garden / Dining, Living Room Furniture / Other</td>\n",
       "      <td>Great reclaimed army ammunition box used as coffee side table\\rOriginal text detail, latch's, le...</td>\n",
       "      <td>£115.00</td>\n",
       "      <td>Radstock, Somerset</td>\n",
       "      <td>1426704575</td>\n",
       "      <td>2022-02-26</td>\n",
       "    </tr>\n",
       "    <tr>\n",
       "      <th>4</th>\n",
       "      <td>16dbc860-696e-4cda-93f6-4dd4926573fb</td>\n",
       "      <td>Modern Shannon Sofa for sale at low cost | in Delph, Manchester | Gumtree</td>\n",
       "      <td>Home &amp; Garden / Dining, Living Room Furniture / Sofas, Armchairs &amp; Suites / Private</td>\n",
       "      <td>New Design Shannon Corner sofa  5 Seater Available\\r👉 Factory Sell Price\\r👉New Amazing Design\\r ...</td>\n",
       "      <td>£450.00</td>\n",
       "      <td>Delph, Manchester</td>\n",
       "      <td>1426704570</td>\n",
       "      <td>2022-02-26</td>\n",
       "    </tr>\n",
       "  </tbody>\n",
       "</table>\n",
       "</div>"
      ],
      "text/plain": [
       "                                     id                                                                               product_name                                                                             category                                                                                  product_description    price                location     page_id create_time\n",
       "0  243809c0-9cfc-4486-ad12-3b7a16605ba9                                        Mirror wall art | in Wokingham, Berkshire | Gumtree          Home & Garden / Dining, Living Room Furniture / Mirrors, Clocks & Ornaments  Mirror wall art. Posted by Nisha in Dining, Living Room Furniture, Mirrors, Clocks & Ornaments i...    £5.00    Wokingham, Berkshire  1426704584  2022-02-26\n",
       "1  1c58d3f9-8b93-47ea-9415-204fcc2a22e6                            Stainless Steel Food Steamer | in Inverness, Highland | Gumtree                                                Home & Garden / Other Household Goods  Morphy Richard’s (model no 48755)Stainless steel 3 tier stackable food steamer9 litre capacity 1...   £20.00     Inverness, Highland  1426704579  2022-02-26\n",
       "2  860673f1-57f6-47ba-8d2f-13f9e05b8f9a                                         Sun loungers | in Skegness, Lincolnshire | Gumtree                        Home & Garden / Garden & Patio / Outdoor Settings & Furniture                                       I have 2 of these - collection only as I don’t drive. £20 Ono    £20.00  Skegness, Lincolnshire  1426704576  2022-02-26\n",
       "3  59948726-29be-4b35-ade5-bb2fd7331856  Coffee side table from Ammunition ammo box hairpin legs | in Radstock, Somerset | Gumtree                                Home & Garden / Dining, Living Room Furniture / Other  Great reclaimed army ammunition box used as coffee side table\\rOriginal text detail, latch's, le...  £115.00      Radstock, Somerset  1426704575  2022-02-26\n",
       "4  16dbc860-696e-4cda-93f6-4dd4926573fb                  Modern Shannon Sofa for sale at low cost | in Delph, Manchester | Gumtree  Home & Garden / Dining, Living Room Furniture / Sofas, Armchairs & Suites / Private  New Design Shannon Corner sofa  5 Seater Available\\r👉 Factory Sell Price\\r👉New Amazing Design\\r ...  £450.00       Delph, Manchester  1426704570  2022-02-26"
      ]
     },
     "execution_count": 115,
     "metadata": {},
     "output_type": "execute_result"
    }
   ],
   "source": [
    "products.head(5)"
   ]
  },
  {
   "cell_type": "markdown",
   "metadata": {},
   "source": [
    "### Fixing Prices:\n",
    "\n",
    "Will use regular expressions to extract the price but we should also check that all the prices are in the same currency. "
   ]
  },
  {
   "cell_type": "code",
   "execution_count": 116,
   "metadata": {},
   "outputs": [],
   "source": [
    "price_pattern = r'([0-9]*,?[0-9]+)'\n",
    "products['cleaned_price'] = products['price'].str.extract(price_pattern, expand=True)\n",
    "products['cleaned_price'] = products['cleaned_price'].str.replace(',','')"
   ]
  },
  {
   "cell_type": "code",
   "execution_count": 117,
   "metadata": {},
   "outputs": [],
   "source": [
    "products['cleaned_price'] = products['cleaned_price'].astype(np.float32)"
   ]
  },
  {
   "cell_type": "code",
   "execution_count": 118,
   "metadata": {},
   "outputs": [
    {
     "data": {
      "text/html": [
       "<div>\n",
       "<style scoped>\n",
       "    .dataframe tbody tr th:only-of-type {\n",
       "        vertical-align: middle;\n",
       "    }\n",
       "\n",
       "    .dataframe tbody tr th {\n",
       "        vertical-align: top;\n",
       "    }\n",
       "\n",
       "    .dataframe thead th {\n",
       "        text-align: right;\n",
       "    }\n",
       "</style>\n",
       "<table border=\"1\" class=\"dataframe\">\n",
       "  <thead>\n",
       "    <tr style=\"text-align: right;\">\n",
       "      <th></th>\n",
       "      <th>id</th>\n",
       "      <th>product_name</th>\n",
       "      <th>category</th>\n",
       "      <th>product_description</th>\n",
       "      <th>price</th>\n",
       "      <th>location</th>\n",
       "      <th>page_id</th>\n",
       "      <th>create_time</th>\n",
       "      <th>cleaned_price</th>\n",
       "    </tr>\n",
       "  </thead>\n",
       "  <tbody>\n",
       "    <tr>\n",
       "      <th>0</th>\n",
       "      <td>243809c0-9cfc-4486-ad12-3b7a16605ba9</td>\n",
       "      <td>Mirror wall art | in Wokingham, Berkshire | Gumtree</td>\n",
       "      <td>Home &amp; Garden / Dining, Living Room Furniture / Mirrors, Clocks &amp; Ornaments</td>\n",
       "      <td>Mirror wall art. Posted by Nisha in Dining, Living Room Furniture, Mirrors, Clocks &amp; Ornaments i...</td>\n",
       "      <td>£5.00</td>\n",
       "      <td>Wokingham, Berkshire</td>\n",
       "      <td>1426704584</td>\n",
       "      <td>2022-02-26</td>\n",
       "      <td>5.0</td>\n",
       "    </tr>\n",
       "    <tr>\n",
       "      <th>1</th>\n",
       "      <td>1c58d3f9-8b93-47ea-9415-204fcc2a22e6</td>\n",
       "      <td>Stainless Steel Food Steamer | in Inverness, Highland | Gumtree</td>\n",
       "      <td>Home &amp; Garden / Other Household Goods</td>\n",
       "      <td>Morphy Richard’s (model no 48755)Stainless steel 3 tier stackable food steamer9 litre capacity 1...</td>\n",
       "      <td>£20.00</td>\n",
       "      <td>Inverness, Highland</td>\n",
       "      <td>1426704579</td>\n",
       "      <td>2022-02-26</td>\n",
       "      <td>20.0</td>\n",
       "    </tr>\n",
       "    <tr>\n",
       "      <th>2</th>\n",
       "      <td>860673f1-57f6-47ba-8d2f-13f9e05b8f9a</td>\n",
       "      <td>Sun loungers | in Skegness, Lincolnshire | Gumtree</td>\n",
       "      <td>Home &amp; Garden / Garden &amp; Patio / Outdoor Settings &amp; Furniture</td>\n",
       "      <td>I have 2 of these - collection only as I don’t drive. £20 Ono</td>\n",
       "      <td>£20.00</td>\n",
       "      <td>Skegness, Lincolnshire</td>\n",
       "      <td>1426704576</td>\n",
       "      <td>2022-02-26</td>\n",
       "      <td>20.0</td>\n",
       "    </tr>\n",
       "    <tr>\n",
       "      <th>3</th>\n",
       "      <td>59948726-29be-4b35-ade5-bb2fd7331856</td>\n",
       "      <td>Coffee side table from Ammunition ammo box hairpin legs | in Radstock, Somerset | Gumtree</td>\n",
       "      <td>Home &amp; Garden / Dining, Living Room Furniture / Other</td>\n",
       "      <td>Great reclaimed army ammunition box used as coffee side table\\rOriginal text detail, latch's, le...</td>\n",
       "      <td>£115.00</td>\n",
       "      <td>Radstock, Somerset</td>\n",
       "      <td>1426704575</td>\n",
       "      <td>2022-02-26</td>\n",
       "      <td>115.0</td>\n",
       "    </tr>\n",
       "    <tr>\n",
       "      <th>4</th>\n",
       "      <td>16dbc860-696e-4cda-93f6-4dd4926573fb</td>\n",
       "      <td>Modern Shannon Sofa for sale at low cost | in Delph, Manchester | Gumtree</td>\n",
       "      <td>Home &amp; Garden / Dining, Living Room Furniture / Sofas, Armchairs &amp; Suites / Private</td>\n",
       "      <td>New Design Shannon Corner sofa  5 Seater Available\\r👉 Factory Sell Price\\r👉New Amazing Design\\r ...</td>\n",
       "      <td>£450.00</td>\n",
       "      <td>Delph, Manchester</td>\n",
       "      <td>1426704570</td>\n",
       "      <td>2022-02-26</td>\n",
       "      <td>450.0</td>\n",
       "    </tr>\n",
       "  </tbody>\n",
       "</table>\n",
       "</div>"
      ],
      "text/plain": [
       "                                     id                                                                               product_name                                                                             category                                                                                  product_description    price                location     page_id create_time  cleaned_price\n",
       "0  243809c0-9cfc-4486-ad12-3b7a16605ba9                                        Mirror wall art | in Wokingham, Berkshire | Gumtree          Home & Garden / Dining, Living Room Furniture / Mirrors, Clocks & Ornaments  Mirror wall art. Posted by Nisha in Dining, Living Room Furniture, Mirrors, Clocks & Ornaments i...    £5.00    Wokingham, Berkshire  1426704584  2022-02-26            5.0\n",
       "1  1c58d3f9-8b93-47ea-9415-204fcc2a22e6                            Stainless Steel Food Steamer | in Inverness, Highland | Gumtree                                                Home & Garden / Other Household Goods  Morphy Richard’s (model no 48755)Stainless steel 3 tier stackable food steamer9 litre capacity 1...   £20.00     Inverness, Highland  1426704579  2022-02-26           20.0\n",
       "2  860673f1-57f6-47ba-8d2f-13f9e05b8f9a                                         Sun loungers | in Skegness, Lincolnshire | Gumtree                        Home & Garden / Garden & Patio / Outdoor Settings & Furniture                                       I have 2 of these - collection only as I don’t drive. £20 Ono    £20.00  Skegness, Lincolnshire  1426704576  2022-02-26           20.0\n",
       "3  59948726-29be-4b35-ade5-bb2fd7331856  Coffee side table from Ammunition ammo box hairpin legs | in Radstock, Somerset | Gumtree                                Home & Garden / Dining, Living Room Furniture / Other  Great reclaimed army ammunition box used as coffee side table\\rOriginal text detail, latch's, le...  £115.00      Radstock, Somerset  1426704575  2022-02-26          115.0\n",
       "4  16dbc860-696e-4cda-93f6-4dd4926573fb                  Modern Shannon Sofa for sale at low cost | in Delph, Manchester | Gumtree  Home & Garden / Dining, Living Room Furniture / Sofas, Armchairs & Suites / Private  New Design Shannon Corner sofa  5 Seater Available\\r👉 Factory Sell Price\\r👉New Amazing Design\\r ...  £450.00       Delph, Manchester  1426704570  2022-02-26          450.0"
      ]
     },
     "execution_count": 118,
     "metadata": {},
     "output_type": "execute_result"
    }
   ],
   "source": [
    "currencies = set(products['price'].str[0])\n",
    "products.head()"
   ]
  },
  {
   "cell_type": "code",
   "execution_count": 119,
   "metadata": {},
   "outputs": [
    {
     "name": "stdout",
     "output_type": "stream",
     "text": [
      "{'£'}\n"
     ]
    }
   ],
   "source": [
    "print(currencies)"
   ]
  },
  {
   "cell_type": "markdown",
   "metadata": {},
   "source": [
    "All in pounds so need to do anything further with price."
   ]
  },
  {
   "cell_type": "code",
   "execution_count": 120,
   "metadata": {},
   "outputs": [
    {
     "data": {
      "text/plain": [
       "count      7156.000000\n",
       "mean        358.831604\n",
       "std        5392.854492\n",
       "min           0.000000\n",
       "25%          10.000000\n",
       "50%          40.000000\n",
       "75%         150.000000\n",
       "max      399900.000000\n",
       "Name: cleaned_price, dtype: float64"
      ]
     },
     "execution_count": 120,
     "metadata": {},
     "output_type": "execute_result"
    }
   ],
   "source": [
    "products['cleaned_price'].describe()"
   ]
  },
  {
   "cell_type": "markdown",
   "metadata": {},
   "source": [
    "Based on this: \n",
    "\n",
    "- Notice that the price is positively skewed. \n",
    "- May need to drop outlier rows where price is 0 and price is extremely high. Lets compute the deciles and create a distribution of the plot. "
   ]
  },
  {
   "cell_type": "code",
   "execution_count": 121,
   "metadata": {},
   "outputs": [
    {
     "data": {
      "text/plain": [
       "array([  0.  ,   1.  ,   4.  ,   5.  ,  10.  ,  10.  ,  15.  ,  20.  ,\n",
       "        25.  ,  33.75,  40.  ,  50.  ,  65.  ,  90.  , 110.  , 150.  ,\n",
       "       200.  , 300.  , 450.  , 850.  ])"
      ]
     },
     "execution_count": 121,
     "metadata": {},
     "output_type": "execute_result"
    }
   ],
   "source": [
    "np.percentile(products['cleaned_price'], np.arange(0,100,5))"
   ]
  },
  {
   "cell_type": "markdown",
   "metadata": {},
   "source": [
    "As 95% of the prices are between 0-850, I will drop the remaining. "
   ]
  },
  {
   "cell_type": "code",
   "execution_count": 122,
   "metadata": {},
   "outputs": [
    {
     "data": {
      "text/plain": [
       "(6810, 9)"
      ]
     },
     "execution_count": 122,
     "metadata": {},
     "output_type": "execute_result"
    }
   ],
   "source": [
    "products = products.loc[products['cleaned_price'] <= 850]\n",
    "products.shape"
   ]
  },
  {
   "cell_type": "code",
   "execution_count": 123,
   "metadata": {},
   "outputs": [
    {
     "data": {
      "image/png": "[encoded data removed]",
      "text/plain": [
       "<Figure size 432x288 with 1 Axes>"
      ]
     },
     "metadata": {
      "needs_background": "light"
     },
     "output_type": "display_data"
    }
   ],
   "source": [
    "plt.hist(products['cleaned_price'], color='blue', edgecolor='black', bins=20)\n",
    "plt.xlabel('Price')\n",
    "plt.ylabel('Quantity of Products')\n",
    "plt.title('Distribution of Product Prices')\n",
    "plt.show()"
   ]
  },
  {
   "cell_type": "markdown",
   "metadata": {},
   "source": [
    "#### Numerically Encoding Location: \n",
    "\n",
    "Planning to split on comma in \"location\" column. Will use longitude/lattitude. To reduce variance in longitude/lattitude I'll use the major City/Couty. In other words: I'll use the location that follows the comma. If none is present, then I'll use the first county/city. As I removed NULL entries earlier, I know in each row of \"location_info\", there is always atleast a Major City or a Town listed.\n",
    "\n",
    "\n",
    "This assumes that prices similar within each major city. If model performs poorly, this could be one improvement."
   ]
  },
  {
   "cell_type": "code",
   "execution_count": 124,
   "metadata": {},
   "outputs": [
    {
     "data": {
      "text/html": [
       "<div>\n",
       "<style scoped>\n",
       "    .dataframe tbody tr th:only-of-type {\n",
       "        vertical-align: middle;\n",
       "    }\n",
       "\n",
       "    .dataframe tbody tr th {\n",
       "        vertical-align: top;\n",
       "    }\n",
       "\n",
       "    .dataframe thead th {\n",
       "        text-align: right;\n",
       "    }\n",
       "</style>\n",
       "<table border=\"1\" class=\"dataframe\">\n",
       "  <thead>\n",
       "    <tr style=\"text-align: right;\">\n",
       "      <th></th>\n",
       "      <th>0</th>\n",
       "      <th>1</th>\n",
       "    </tr>\n",
       "  </thead>\n",
       "  <tbody>\n",
       "    <tr>\n",
       "      <th>0</th>\n",
       "      <td>Wokingham</td>\n",
       "      <td>Berkshire</td>\n",
       "    </tr>\n",
       "    <tr>\n",
       "      <th>1</th>\n",
       "      <td>Inverness</td>\n",
       "      <td>Highland</td>\n",
       "    </tr>\n",
       "    <tr>\n",
       "      <th>2</th>\n",
       "      <td>Skegness</td>\n",
       "      <td>Lincolnshire</td>\n",
       "    </tr>\n",
       "    <tr>\n",
       "      <th>3</th>\n",
       "      <td>Radstock</td>\n",
       "      <td>Somerset</td>\n",
       "    </tr>\n",
       "    <tr>\n",
       "      <th>4</th>\n",
       "      <td>Delph</td>\n",
       "      <td>Manchester</td>\n",
       "    </tr>\n",
       "  </tbody>\n",
       "</table>\n",
       "</div>"
      ],
      "text/plain": [
       "           0              1\n",
       "0  Wokingham      Berkshire\n",
       "1  Inverness       Highland\n",
       "2   Skegness   Lincolnshire\n",
       "3   Radstock       Somerset\n",
       "4      Delph     Manchester"
      ]
     },
     "execution_count": 124,
     "metadata": {},
     "output_type": "execute_result"
    }
   ],
   "source": [
    "location_info = products['location'].str.split(',', expand=True)\n",
    "location_info.head()"
   ]
  },
  {
   "cell_type": "code",
   "execution_count": 125,
   "metadata": {},
   "outputs": [
    {
     "data": {
      "text/plain": [
       "(6810, 2)"
      ]
     },
     "execution_count": 125,
     "metadata": {},
     "output_type": "execute_result"
    }
   ],
   "source": [
    "location_info.columns = ['Town', 'City']\n",
    "town_counter, city_counter = Counter(location_info['Town']), Counter(location_info['City'])\n",
    "location_info.shape"
   ]
  },
  {
   "cell_type": "code",
   "execution_count": 126,
   "metadata": {},
   "outputs": [
    {
     "data": {
      "text/html": [
       "<div>\n",
       "<style scoped>\n",
       "    .dataframe tbody tr th:only-of-type {\n",
       "        vertical-align: middle;\n",
       "    }\n",
       "\n",
       "    .dataframe tbody tr th {\n",
       "        vertical-align: top;\n",
       "    }\n",
       "\n",
       "    .dataframe thead th {\n",
       "        text-align: right;\n",
       "    }\n",
       "</style>\n",
       "<table border=\"1\" class=\"dataframe\">\n",
       "  <thead>\n",
       "    <tr style=\"text-align: right;\">\n",
       "      <th></th>\n",
       "      <th>Town</th>\n",
       "      <th>City</th>\n",
       "    </tr>\n",
       "  </thead>\n",
       "  <tbody>\n",
       "    <tr>\n",
       "      <th>0</th>\n",
       "      <td>Wokingham</td>\n",
       "      <td>Berkshire</td>\n",
       "    </tr>\n",
       "    <tr>\n",
       "      <th>1</th>\n",
       "      <td>Inverness</td>\n",
       "      <td>Highland</td>\n",
       "    </tr>\n",
       "    <tr>\n",
       "      <th>2</th>\n",
       "      <td>Skegness</td>\n",
       "      <td>Lincolnshire</td>\n",
       "    </tr>\n",
       "    <tr>\n",
       "      <th>3</th>\n",
       "      <td>Radstock</td>\n",
       "      <td>Somerset</td>\n",
       "    </tr>\n",
       "    <tr>\n",
       "      <th>4</th>\n",
       "      <td>Delph</td>\n",
       "      <td>Manchester</td>\n",
       "    </tr>\n",
       "  </tbody>\n",
       "</table>\n",
       "</div>"
      ],
      "text/plain": [
       "        Town           City\n",
       "0  Wokingham      Berkshire\n",
       "1  Inverness       Highland\n",
       "2   Skegness   Lincolnshire\n",
       "3   Radstock       Somerset\n",
       "4      Delph     Manchester"
      ]
     },
     "execution_count": 126,
     "metadata": {},
     "output_type": "execute_result"
    }
   ],
   "source": [
    "location_info.head()"
   ]
  },
  {
   "cell_type": "code",
   "execution_count": 127,
   "metadata": {},
   "outputs": [
    {
     "name": "stdout",
     "output_type": "stream",
     "text": [
      "<class 'pandas.core.frame.DataFrame'>\n",
      "Int64Index: 6810 entries, 0 to 7155\n",
      "Data columns (total 2 columns):\n",
      " #   Column  Non-Null Count  Dtype \n",
      "---  ------  --------------  ----- \n",
      " 0   Town    6810 non-null   object\n",
      " 1   City    6574 non-null   object\n",
      "dtypes: object(2)\n",
      "memory usage: 159.6+ KB\n"
     ]
    }
   ],
   "source": [
    "location_info.info()"
   ]
  },
  {
   "cell_type": "markdown",
   "metadata": {},
   "source": [
    "Using one hot encoding for categories with many levels, can lead to large dimensionality within our data. We know that this leads to needing more computational power. Note of things we can do: \n",
    "\n",
    "- Use only most frequent categories. Take top 'x', where x can be determined by a frequency distribution. ie: take the top 'x' such that 80% of the data is accounted for. \n",
    "- Use a \"Frequency Counts\" method, involves replacing the category with its frequency. Negatives of this is that categories with similar counts will be treated alike, so may lose information. \n",
    "- Location data can be encoded using longitude and lattitude. "
   ]
  },
  {
   "cell_type": "markdown",
   "metadata": {},
   "source": [
    "Cleaning Location Data: Will use longitude/lattitude to encode location:"
   ]
  },
  {
   "cell_type": "code",
   "execution_count": 128,
   "metadata": {},
   "outputs": [
    {
     "data": {
      "text/html": [
       "<div>\n",
       "<style scoped>\n",
       "    .dataframe tbody tr th:only-of-type {\n",
       "        vertical-align: middle;\n",
       "    }\n",
       "\n",
       "    .dataframe tbody tr th {\n",
       "        vertical-align: top;\n",
       "    }\n",
       "\n",
       "    .dataframe thead th {\n",
       "        text-align: right;\n",
       "    }\n",
       "</style>\n",
       "<table border=\"1\" class=\"dataframe\">\n",
       "  <thead>\n",
       "    <tr style=\"text-align: right;\">\n",
       "      <th></th>\n",
       "      <th>location</th>\n",
       "    </tr>\n",
       "  </thead>\n",
       "  <tbody>\n",
       "    <tr>\n",
       "      <th>0</th>\n",
       "      <td>Wokingham, Berkshire</td>\n",
       "    </tr>\n",
       "    <tr>\n",
       "      <th>1</th>\n",
       "      <td>Inverness, Highland</td>\n",
       "    </tr>\n",
       "    <tr>\n",
       "      <th>2</th>\n",
       "      <td>Skegness, Lincolnshire</td>\n",
       "    </tr>\n",
       "    <tr>\n",
       "      <th>3</th>\n",
       "      <td>Radstock, Somerset</td>\n",
       "    </tr>\n",
       "    <tr>\n",
       "      <th>4</th>\n",
       "      <td>Delph, Manchester</td>\n",
       "    </tr>\n",
       "  </tbody>\n",
       "</table>\n",
       "</div>"
      ],
      "text/plain": [
       "                 location\n",
       "0    Wokingham, Berkshire\n",
       "1     Inverness, Highland\n",
       "2  Skegness, Lincolnshire\n",
       "3      Radstock, Somerset\n",
       "4       Delph, Manchester"
      ]
     },
     "execution_count": 128,
     "metadata": {},
     "output_type": "execute_result"
    }
   ],
   "source": [
    "location_encoding = pd.DataFrame(products['location'])\n",
    "location_encoding.head()"
   ]
  },
  {
   "cell_type": "markdown",
   "metadata": {},
   "source": [
    "Testing extracting longitude and latitude from location."
   ]
  },
  {
   "cell_type": "code",
   "execution_count": 129,
   "metadata": {},
   "outputs": [
    {
     "name": "stdout",
     "output_type": "stream",
     "text": [
      "Inverness, Highland\n",
      "57.4790124\n",
      "-4.225739\n"
     ]
    }
   ],
   "source": [
    "geolocator = Nominatim(user_agent='my_user_agent')\n",
    "loc_1 = location_encoding.iloc[1,0]\n",
    "loc = geolocator.geocode(loc_1)\n",
    "print(loc_1)\n",
    "print(loc.latitude)\n",
    "print(loc.longitude)"
   ]
  },
  {
   "cell_type": "code",
   "execution_count": 130,
   "metadata": {},
   "outputs": [],
   "source": [
    "locations_stored = {}\n",
    "\n",
    "def _location_extractor(x : str) -> Tuple[float, float]:\n",
    "    # Split location based on comma. \n",
    "    location_list = x.split(',')\n",
    "    # If we only have one city/town then use that, else use the major city. \n",
    "    if len(location_list) == 1:\n",
    "        city = location_list[0]\n",
    "    else:\n",
    "        city = location_list[1]\n",
    "    try: \n",
    "        try:\n",
    "            latitude, longitude = locations_stored[city]\n",
    "            return latitude, longitude\n",
    "        except:\n",
    "            coords = geolocator.geocode(city)\n",
    "            latitude, longitude = coords.latitude, coords.longitude\n",
    "            locations_stored[city] = [latitude, longitude]\n",
    "            return latitude, longitude\n",
    "    except: \n",
    "        print(f'For {x}, cant use Gelocator')"
   ]
  },
  {
   "cell_type": "code",
   "execution_count": 131,
   "metadata": {},
   "outputs": [],
   "source": [
    "products['latitude'], products['longitude'] = list(zip(*products['location'].apply(_location_extractor)))"
   ]
  },
  {
   "cell_type": "code",
   "execution_count": 132,
   "metadata": {},
   "outputs": [
    {
     "data": {
      "text/html": [
       "<div>\n",
       "<style scoped>\n",
       "    .dataframe tbody tr th:only-of-type {\n",
       "        vertical-align: middle;\n",
       "    }\n",
       "\n",
       "    .dataframe tbody tr th {\n",
       "        vertical-align: top;\n",
       "    }\n",
       "\n",
       "    .dataframe thead th {\n",
       "        text-align: right;\n",
       "    }\n",
       "</style>\n",
       "<table border=\"1\" class=\"dataframe\">\n",
       "  <thead>\n",
       "    <tr style=\"text-align: right;\">\n",
       "      <th></th>\n",
       "      <th>id</th>\n",
       "      <th>product_name</th>\n",
       "      <th>category</th>\n",
       "      <th>product_description</th>\n",
       "      <th>price</th>\n",
       "      <th>location</th>\n",
       "      <th>page_id</th>\n",
       "      <th>create_time</th>\n",
       "      <th>cleaned_price</th>\n",
       "      <th>latitude</th>\n",
       "      <th>longitude</th>\n",
       "    </tr>\n",
       "  </thead>\n",
       "  <tbody>\n",
       "    <tr>\n",
       "      <th>0</th>\n",
       "      <td>243809c0-9cfc-4486-ad12-3b7a16605ba9</td>\n",
       "      <td>Mirror wall art | in Wokingham, Berkshire | Gumtree</td>\n",
       "      <td>Home &amp; Garden / Dining, Living Room Furniture / Mirrors, Clocks &amp; Ornaments</td>\n",
       "      <td>Mirror wall art. Posted by Nisha in Dining, Living Room Furniture, Mirrors, Clocks &amp; Ornaments i...</td>\n",
       "      <td>£5.00</td>\n",
       "      <td>Wokingham, Berkshire</td>\n",
       "      <td>1426704584</td>\n",
       "      <td>2022-02-26</td>\n",
       "      <td>5.0</td>\n",
       "      <td>51.453489</td>\n",
       "      <td>-1.031873</td>\n",
       "    </tr>\n",
       "    <tr>\n",
       "      <th>1</th>\n",
       "      <td>1c58d3f9-8b93-47ea-9415-204fcc2a22e6</td>\n",
       "      <td>Stainless Steel Food Steamer | in Inverness, Highland | Gumtree</td>\n",
       "      <td>Home &amp; Garden / Other Household Goods</td>\n",
       "      <td>Morphy Richard’s (model no 48755)Stainless steel 3 tier stackable food steamer9 litre capacity 1...</td>\n",
       "      <td>£20.00</td>\n",
       "      <td>Inverness, Highland</td>\n",
       "      <td>1426704579</td>\n",
       "      <td>2022-02-26</td>\n",
       "      <td>20.0</td>\n",
       "      <td>57.506636</td>\n",
       "      <td>-5.003837</td>\n",
       "    </tr>\n",
       "    <tr>\n",
       "      <th>2</th>\n",
       "      <td>860673f1-57f6-47ba-8d2f-13f9e05b8f9a</td>\n",
       "      <td>Sun loungers | in Skegness, Lincolnshire | Gumtree</td>\n",
       "      <td>Home &amp; Garden / Garden &amp; Patio / Outdoor Settings &amp; Furniture</td>\n",
       "      <td>I have 2 of these - collection only as I don’t drive. £20 Ono</td>\n",
       "      <td>£20.00</td>\n",
       "      <td>Skegness, Lincolnshire</td>\n",
       "      <td>1426704576</td>\n",
       "      <td>2022-02-26</td>\n",
       "      <td>20.0</td>\n",
       "      <td>53.182303</td>\n",
       "      <td>-0.203121</td>\n",
       "    </tr>\n",
       "    <tr>\n",
       "      <th>3</th>\n",
       "      <td>59948726-29be-4b35-ade5-bb2fd7331856</td>\n",
       "      <td>Coffee side table from Ammunition ammo box hairpin legs | in Radstock, Somerset | Gumtree</td>\n",
       "      <td>Home &amp; Garden / Dining, Living Room Furniture / Other</td>\n",
       "      <td>Great reclaimed army ammunition box used as coffee side table\\rOriginal text detail, latch's, le...</td>\n",
       "      <td>£115.00</td>\n",
       "      <td>Radstock, Somerset</td>\n",
       "      <td>1426704575</td>\n",
       "      <td>2022-02-26</td>\n",
       "      <td>115.0</td>\n",
       "      <td>51.161751</td>\n",
       "      <td>-3.075387</td>\n",
       "    </tr>\n",
       "    <tr>\n",
       "      <th>4</th>\n",
       "      <td>16dbc860-696e-4cda-93f6-4dd4926573fb</td>\n",
       "      <td>Modern Shannon Sofa for sale at low cost | in Delph, Manchester | Gumtree</td>\n",
       "      <td>Home &amp; Garden / Dining, Living Room Furniture / Sofas, Armchairs &amp; Suites / Private</td>\n",
       "      <td>New Design Shannon Corner sofa  5 Seater Available\\r👉 Factory Sell Price\\r👉New Amazing Design\\r ...</td>\n",
       "      <td>£450.00</td>\n",
       "      <td>Delph, Manchester</td>\n",
       "      <td>1426704570</td>\n",
       "      <td>2022-02-26</td>\n",
       "      <td>450.0</td>\n",
       "      <td>53.479489</td>\n",
       "      <td>-2.245115</td>\n",
       "    </tr>\n",
       "  </tbody>\n",
       "</table>\n",
       "</div>"
      ],
      "text/plain": [
       "                                     id                                                                               product_name                                                                             category                                                                                  product_description    price                location     page_id create_time  cleaned_price   latitude  longitude\n",
       "0  243809c0-9cfc-4486-ad12-3b7a16605ba9                                        Mirror wall art | in Wokingham, Berkshire | Gumtree          Home & Garden / Dining, Living Room Furniture / Mirrors, Clocks & Ornaments  Mirror wall art. Posted by Nisha in Dining, Living Room Furniture, Mirrors, Clocks & Ornaments i...    £5.00    Wokingham, Berkshire  1426704584  2022-02-26            5.0  51.453489  -1.031873\n",
       "1  1c58d3f9-8b93-47ea-9415-204fcc2a22e6                            Stainless Steel Food Steamer | in Inverness, Highland | Gumtree                                                Home & Garden / Other Household Goods  Morphy Richard’s (model no 48755)Stainless steel 3 tier stackable food steamer9 litre capacity 1...   £20.00     Inverness, Highland  1426704579  2022-02-26           20.0  57.506636  -5.003837\n",
       "2  860673f1-57f6-47ba-8d2f-13f9e05b8f9a                                         Sun loungers | in Skegness, Lincolnshire | Gumtree                        Home & Garden / Garden & Patio / Outdoor Settings & Furniture                                       I have 2 of these - collection only as I don’t drive. £20 Ono    £20.00  Skegness, Lincolnshire  1426704576  2022-02-26           20.0  53.182303  -0.203121\n",
       "3  59948726-29be-4b35-ade5-bb2fd7331856  Coffee side table from Ammunition ammo box hairpin legs | in Radstock, Somerset | Gumtree                                Home & Garden / Dining, Living Room Furniture / Other  Great reclaimed army ammunition box used as coffee side table\\rOriginal text detail, latch's, le...  £115.00      Radstock, Somerset  1426704575  2022-02-26          115.0  51.161751  -3.075387\n",
       "4  16dbc860-696e-4cda-93f6-4dd4926573fb                  Modern Shannon Sofa for sale at low cost | in Delph, Manchester | Gumtree  Home & Garden / Dining, Living Room Furniture / Sofas, Armchairs & Suites / Private  New Design Shannon Corner sofa  5 Seater Available\\r👉 Factory Sell Price\\r👉New Amazing Design\\r ...  £450.00       Delph, Manchester  1426704570  2022-02-26          450.0  53.479489  -2.245115"
      ]
     },
     "execution_count": 132,
     "metadata": {},
     "output_type": "execute_result"
    }
   ],
   "source": [
    "products.head()"
   ]
  },
  {
   "cell_type": "markdown",
   "metadata": {},
   "source": [
    "### Expanding Categories: \n",
    "\n",
    "We notice that following each forward slash there's another category. Using all subsequent categories may not be the smartest idea as this can lead to a large number of features, each with a small sample size. Let's explore further:"
   ]
  },
  {
   "cell_type": "code",
   "execution_count": 133,
   "metadata": {},
   "outputs": [],
   "source": [
    "unclean_categories = products['category'].str.split(r'/', expand=True)"
   ]
  },
  {
   "cell_type": "code",
   "execution_count": 134,
   "metadata": {},
   "outputs": [
    {
     "data": {
      "text/html": [
       "<div>\n",
       "<style scoped>\n",
       "    .dataframe tbody tr th:only-of-type {\n",
       "        vertical-align: middle;\n",
       "    }\n",
       "\n",
       "    .dataframe tbody tr th {\n",
       "        vertical-align: top;\n",
       "    }\n",
       "\n",
       "    .dataframe thead th {\n",
       "        text-align: right;\n",
       "    }\n",
       "</style>\n",
       "<table border=\"1\" class=\"dataframe\">\n",
       "  <thead>\n",
       "    <tr style=\"text-align: right;\">\n",
       "      <th></th>\n",
       "      <th>0</th>\n",
       "      <th>1</th>\n",
       "      <th>2</th>\n",
       "      <th>3</th>\n",
       "      <th>4</th>\n",
       "    </tr>\n",
       "  </thead>\n",
       "  <tbody>\n",
       "    <tr>\n",
       "      <th>0</th>\n",
       "      <td>Home &amp; Garden</td>\n",
       "      <td>Dining, Living Room Furniture</td>\n",
       "      <td>Mirrors, Clocks &amp; Ornaments</td>\n",
       "      <td>None</td>\n",
       "      <td>None</td>\n",
       "    </tr>\n",
       "    <tr>\n",
       "      <th>1</th>\n",
       "      <td>Home &amp; Garden</td>\n",
       "      <td>Other Household Goods</td>\n",
       "      <td>None</td>\n",
       "      <td>None</td>\n",
       "      <td>None</td>\n",
       "    </tr>\n",
       "    <tr>\n",
       "      <th>2</th>\n",
       "      <td>Home &amp; Garden</td>\n",
       "      <td>Garden &amp; Patio</td>\n",
       "      <td>Outdoor Settings &amp; Furniture</td>\n",
       "      <td>None</td>\n",
       "      <td>None</td>\n",
       "    </tr>\n",
       "    <tr>\n",
       "      <th>3</th>\n",
       "      <td>Home &amp; Garden</td>\n",
       "      <td>Dining, Living Room Furniture</td>\n",
       "      <td>Other</td>\n",
       "      <td>None</td>\n",
       "      <td>None</td>\n",
       "    </tr>\n",
       "    <tr>\n",
       "      <th>4</th>\n",
       "      <td>Home &amp; Garden</td>\n",
       "      <td>Dining, Living Room Furniture</td>\n",
       "      <td>Sofas, Armchairs &amp; Suites</td>\n",
       "      <td>Private</td>\n",
       "      <td>None</td>\n",
       "    </tr>\n",
       "  </tbody>\n",
       "</table>\n",
       "</div>"
      ],
      "text/plain": [
       "                0                                1                              2         3     4\n",
       "0  Home & Garden    Dining, Living Room Furniture     Mirrors, Clocks & Ornaments      None  None\n",
       "1  Home & Garden             Other Household Goods                           None      None  None\n",
       "2  Home & Garden                   Garden & Patio    Outdoor Settings & Furniture      None  None\n",
       "3  Home & Garden    Dining, Living Room Furniture                           Other      None  None\n",
       "4  Home & Garden    Dining, Living Room Furniture      Sofas, Armchairs & Suites    Private  None"
      ]
     },
     "execution_count": 134,
     "metadata": {},
     "output_type": "execute_result"
    }
   ],
   "source": [
    "unclean_categories.shape\n",
    "unclean_categories.head()"
   ]
  },
  {
   "cell_type": "markdown",
   "metadata": {},
   "source": [
    "Nulls in table?"
   ]
  },
  {
   "cell_type": "code",
   "execution_count": 135,
   "metadata": {},
   "outputs": [
    {
     "data": {
      "text/plain": [
       "0       0\n",
       "1       0\n",
       "2    2552\n",
       "3    6272\n",
       "4    6802\n",
       "dtype: int64"
      ]
     },
     "execution_count": 135,
     "metadata": {},
     "output_type": "execute_result"
    }
   ],
   "source": [
    "unclean_categories.isna().sum(axis=0)"
   ]
  },
  {
   "cell_type": "markdown",
   "metadata": {},
   "source": [
    "I'll denote each category within the category hierachy by a column index. We see that for all of our datapoints we have categories at cols = 0 and cols = 1. Moving across the columns, the data becomes less available and practically NULL at col_index = 4. So I'll split the first and second indexxes. "
   ]
  },
  {
   "cell_type": "markdown",
   "metadata": {},
   "source": [
    "Lets get an idea of distribution of each major and minor category:"
   ]
  },
  {
   "cell_type": "code",
   "execution_count": 136,
   "metadata": {},
   "outputs": [],
   "source": [
    "major_minor_categories = unclean_categories.iloc[:, 0:2]"
   ]
  },
  {
   "cell_type": "code",
   "execution_count": 137,
   "metadata": {},
   "outputs": [
    {
     "data": {
      "text/html": [
       "<div>\n",
       "<style scoped>\n",
       "    .dataframe tbody tr th:only-of-type {\n",
       "        vertical-align: middle;\n",
       "    }\n",
       "\n",
       "    .dataframe tbody tr th {\n",
       "        vertical-align: top;\n",
       "    }\n",
       "\n",
       "    .dataframe thead th {\n",
       "        text-align: right;\n",
       "    }\n",
       "</style>\n",
       "<table border=\"1\" class=\"dataframe\">\n",
       "  <thead>\n",
       "    <tr style=\"text-align: right;\">\n",
       "      <th></th>\n",
       "      <th>major</th>\n",
       "      <th>minor</th>\n",
       "    </tr>\n",
       "  </thead>\n",
       "  <tbody>\n",
       "    <tr>\n",
       "      <th>0</th>\n",
       "      <td>Home &amp; Garden</td>\n",
       "      <td>Dining, Living Room Furniture</td>\n",
       "    </tr>\n",
       "    <tr>\n",
       "      <th>1</th>\n",
       "      <td>Home &amp; Garden</td>\n",
       "      <td>Other Household Goods</td>\n",
       "    </tr>\n",
       "    <tr>\n",
       "      <th>2</th>\n",
       "      <td>Home &amp; Garden</td>\n",
       "      <td>Garden &amp; Patio</td>\n",
       "    </tr>\n",
       "    <tr>\n",
       "      <th>3</th>\n",
       "      <td>Home &amp; Garden</td>\n",
       "      <td>Dining, Living Room Furniture</td>\n",
       "    </tr>\n",
       "    <tr>\n",
       "      <th>4</th>\n",
       "      <td>Home &amp; Garden</td>\n",
       "      <td>Dining, Living Room Furniture</td>\n",
       "    </tr>\n",
       "  </tbody>\n",
       "</table>\n",
       "</div>"
      ],
      "text/plain": [
       "            major                            minor\n",
       "0  Home & Garden    Dining, Living Room Furniture \n",
       "1  Home & Garden             Other Household Goods\n",
       "2  Home & Garden                   Garden & Patio \n",
       "3  Home & Garden    Dining, Living Room Furniture \n",
       "4  Home & Garden    Dining, Living Room Furniture "
      ]
     },
     "execution_count": 137,
     "metadata": {},
     "output_type": "execute_result"
    }
   ],
   "source": [
    "major_minor_categories.columns = ['major', 'minor']\n",
    "major_minor_categories.head()"
   ]
  },
  {
   "cell_type": "code",
   "execution_count": 138,
   "metadata": {},
   "outputs": [
    {
     "data": {
      "image/png": "[encoded data removed]",
      "text/plain": [
       "<Figure size 432x288 with 1 Axes>"
      ]
     },
     "metadata": {
      "needs_background": "light"
     },
     "output_type": "display_data"
    }
   ],
   "source": [
    "sns.countplot(x='major', data=major_minor_categories)\n",
    "plt.xticks(rotation=90)\n",
    "plt.xlabel('Major Category')\n",
    "plt.ylabel('Count')\n",
    "plt.title('Distribution of Major Categories')\n",
    "plt.show()"
   ]
  },
  {
   "cell_type": "markdown",
   "metadata": {},
   "source": [
    "Based on the even distribution and our overall objective, it seems logical to create a model to predict the major category"
   ]
  },
  {
   "cell_type": "code",
   "execution_count": 139,
   "metadata": {},
   "outputs": [
    {
     "data": {
      "image/png": "[encoded data removed]",
      "text/plain": [
       "<Figure size 432x288 with 1 Axes>"
      ]
     },
     "metadata": {
      "needs_background": "light"
     },
     "output_type": "display_data"
    }
   ],
   "source": [
    "sns.countplot(x='minor', data=major_minor_categories)\n",
    "plt.tick_params(\n",
    "    axis='x',          # changes apply to the x-axis\n",
    "    which='both',      # both major and minor ticks are affected\n",
    "    bottom=False,      # ticks along the bottom edge are off\n",
    "    top=False,         # ticks along the top edge are off\n",
    "    labelbottom=False)\n",
    "plt.xlabel('Minor Category')\n",
    "plt.ylabel('Count')\n",
    "plt.title('Distribution of Minor Categories')\n",
    "plt.show()"
   ]
  },
  {
   "cell_type": "markdown",
   "metadata": {},
   "source": [
    "Based on the distribution of the minor categories, I believe it's unwise to use them as features. Typically to use categorical data as features, we want only a few possible outcomes.\n",
    "\n",
    "Adding in major_category column to products dataframe:"
   ]
  },
  {
   "cell_type": "code",
   "execution_count": 140,
   "metadata": {},
   "outputs": [],
   "source": [
    "products['major_cat'] = products['category'].str.split(r'/', expand=True).iloc[:, 0]"
   ]
  },
  {
   "cell_type": "code",
   "execution_count": 141,
   "metadata": {},
   "outputs": [
    {
     "data": {
      "text/html": [
       "<div>\n",
       "<style scoped>\n",
       "    .dataframe tbody tr th:only-of-type {\n",
       "        vertical-align: middle;\n",
       "    }\n",
       "\n",
       "    .dataframe tbody tr th {\n",
       "        vertical-align: top;\n",
       "    }\n",
       "\n",
       "    .dataframe thead th {\n",
       "        text-align: right;\n",
       "    }\n",
       "</style>\n",
       "<table border=\"1\" class=\"dataframe\">\n",
       "  <thead>\n",
       "    <tr style=\"text-align: right;\">\n",
       "      <th></th>\n",
       "      <th>id</th>\n",
       "      <th>product_name</th>\n",
       "      <th>category</th>\n",
       "      <th>product_description</th>\n",
       "      <th>price</th>\n",
       "      <th>location</th>\n",
       "      <th>page_id</th>\n",
       "      <th>create_time</th>\n",
       "      <th>cleaned_price</th>\n",
       "      <th>latitude</th>\n",
       "      <th>longitude</th>\n",
       "      <th>major_cat</th>\n",
       "    </tr>\n",
       "  </thead>\n",
       "  <tbody>\n",
       "    <tr>\n",
       "      <th>0</th>\n",
       "      <td>243809c0-9cfc-4486-ad12-3b7a16605ba9</td>\n",
       "      <td>Mirror wall art | in Wokingham, Berkshire | Gumtree</td>\n",
       "      <td>Home &amp; Garden / Dining, Living Room Furniture / Mirrors, Clocks &amp; Ornaments</td>\n",
       "      <td>Mirror wall art. Posted by Nisha in Dining, Living Room Furniture, Mirrors, Clocks &amp; Ornaments i...</td>\n",
       "      <td>£5.00</td>\n",
       "      <td>Wokingham, Berkshire</td>\n",
       "      <td>1426704584</td>\n",
       "      <td>2022-02-26</td>\n",
       "      <td>5.0</td>\n",
       "      <td>51.453489</td>\n",
       "      <td>-1.031873</td>\n",
       "      <td>Home &amp; Garden</td>\n",
       "    </tr>\n",
       "    <tr>\n",
       "      <th>1</th>\n",
       "      <td>1c58d3f9-8b93-47ea-9415-204fcc2a22e6</td>\n",
       "      <td>Stainless Steel Food Steamer | in Inverness, Highland | Gumtree</td>\n",
       "      <td>Home &amp; Garden / Other Household Goods</td>\n",
       "      <td>Morphy Richard’s (model no 48755)Stainless steel 3 tier stackable food steamer9 litre capacity 1...</td>\n",
       "      <td>£20.00</td>\n",
       "      <td>Inverness, Highland</td>\n",
       "      <td>1426704579</td>\n",
       "      <td>2022-02-26</td>\n",
       "      <td>20.0</td>\n",
       "      <td>57.506636</td>\n",
       "      <td>-5.003837</td>\n",
       "      <td>Home &amp; Garden</td>\n",
       "    </tr>\n",
       "    <tr>\n",
       "      <th>2</th>\n",
       "      <td>860673f1-57f6-47ba-8d2f-13f9e05b8f9a</td>\n",
       "      <td>Sun loungers | in Skegness, Lincolnshire | Gumtree</td>\n",
       "      <td>Home &amp; Garden / Garden &amp; Patio / Outdoor Settings &amp; Furniture</td>\n",
       "      <td>I have 2 of these - collection only as I don’t drive. £20 Ono</td>\n",
       "      <td>£20.00</td>\n",
       "      <td>Skegness, Lincolnshire</td>\n",
       "      <td>1426704576</td>\n",
       "      <td>2022-02-26</td>\n",
       "      <td>20.0</td>\n",
       "      <td>53.182303</td>\n",
       "      <td>-0.203121</td>\n",
       "      <td>Home &amp; Garden</td>\n",
       "    </tr>\n",
       "    <tr>\n",
       "      <th>3</th>\n",
       "      <td>59948726-29be-4b35-ade5-bb2fd7331856</td>\n",
       "      <td>Coffee side table from Ammunition ammo box hairpin legs | in Radstock, Somerset | Gumtree</td>\n",
       "      <td>Home &amp; Garden / Dining, Living Room Furniture / Other</td>\n",
       "      <td>Great reclaimed army ammunition box used as coffee side table\\rOriginal text detail, latch's, le...</td>\n",
       "      <td>£115.00</td>\n",
       "      <td>Radstock, Somerset</td>\n",
       "      <td>1426704575</td>\n",
       "      <td>2022-02-26</td>\n",
       "      <td>115.0</td>\n",
       "      <td>51.161751</td>\n",
       "      <td>-3.075387</td>\n",
       "      <td>Home &amp; Garden</td>\n",
       "    </tr>\n",
       "    <tr>\n",
       "      <th>4</th>\n",
       "      <td>16dbc860-696e-4cda-93f6-4dd4926573fb</td>\n",
       "      <td>Modern Shannon Sofa for sale at low cost | in Delph, Manchester | Gumtree</td>\n",
       "      <td>Home &amp; Garden / Dining, Living Room Furniture / Sofas, Armchairs &amp; Suites / Private</td>\n",
       "      <td>New Design Shannon Corner sofa  5 Seater Available\\r👉 Factory Sell Price\\r👉New Amazing Design\\r ...</td>\n",
       "      <td>£450.00</td>\n",
       "      <td>Delph, Manchester</td>\n",
       "      <td>1426704570</td>\n",
       "      <td>2022-02-26</td>\n",
       "      <td>450.0</td>\n",
       "      <td>53.479489</td>\n",
       "      <td>-2.245115</td>\n",
       "      <td>Home &amp; Garden</td>\n",
       "    </tr>\n",
       "  </tbody>\n",
       "</table>\n",
       "</div>"
      ],
      "text/plain": [
       "                                     id                                                                               product_name                                                                             category                                                                                  product_description    price                location     page_id create_time  cleaned_price   latitude  longitude       major_cat\n",
       "0  243809c0-9cfc-4486-ad12-3b7a16605ba9                                        Mirror wall art | in Wokingham, Berkshire | Gumtree          Home & Garden / Dining, Living Room Furniture / Mirrors, Clocks & Ornaments  Mirror wall art. Posted by Nisha in Dining, Living Room Furniture, Mirrors, Clocks & Ornaments i...    £5.00    Wokingham, Berkshire  1426704584  2022-02-26            5.0  51.453489  -1.031873  Home & Garden \n",
       "1  1c58d3f9-8b93-47ea-9415-204fcc2a22e6                            Stainless Steel Food Steamer | in Inverness, Highland | Gumtree                                                Home & Garden / Other Household Goods  Morphy Richard’s (model no 48755)Stainless steel 3 tier stackable food steamer9 litre capacity 1...   £20.00     Inverness, Highland  1426704579  2022-02-26           20.0  57.506636  -5.003837  Home & Garden \n",
       "2  860673f1-57f6-47ba-8d2f-13f9e05b8f9a                                         Sun loungers | in Skegness, Lincolnshire | Gumtree                        Home & Garden / Garden & Patio / Outdoor Settings & Furniture                                       I have 2 of these - collection only as I don’t drive. £20 Ono    £20.00  Skegness, Lincolnshire  1426704576  2022-02-26           20.0  53.182303  -0.203121  Home & Garden \n",
       "3  59948726-29be-4b35-ade5-bb2fd7331856  Coffee side table from Ammunition ammo box hairpin legs | in Radstock, Somerset | Gumtree                                Home & Garden / Dining, Living Room Furniture / Other  Great reclaimed army ammunition box used as coffee side table\\rOriginal text detail, latch's, le...  £115.00      Radstock, Somerset  1426704575  2022-02-26          115.0  51.161751  -3.075387  Home & Garden \n",
       "4  16dbc860-696e-4cda-93f6-4dd4926573fb                  Modern Shannon Sofa for sale at low cost | in Delph, Manchester | Gumtree  Home & Garden / Dining, Living Room Furniture / Sofas, Armchairs & Suites / Private  New Design Shannon Corner sofa  5 Seater Available\\r👉 Factory Sell Price\\r👉New Amazing Design\\r ...  £450.00       Delph, Manchester  1426704570  2022-02-26          450.0  53.479489  -2.245115  Home & Garden "
      ]
     },
     "execution_count": 141,
     "metadata": {},
     "output_type": "execute_result"
    }
   ],
   "source": [
    "products.head()"
   ]
  },
  {
   "cell_type": "markdown",
   "metadata": {},
   "source": [
    "### NLP:\n",
    "\n",
    "Processing Product Names, and product descriptions:"
   ]
  },
  {
   "cell_type": "markdown",
   "metadata": {},
   "source": [
    "Let's preview some random product names:"
   ]
  },
  {
   "cell_type": "code",
   "execution_count": 142,
   "metadata": {},
   "outputs": [],
   "source": [
    "rand_10 = random.sample(range(0, products.shape[0]-1), 10)"
   ]
  },
  {
   "cell_type": "code",
   "execution_count": 150,
   "metadata": {},
   "outputs": [],
   "source": [
    "products.reset_index(inplace=True, drop=True)"
   ]
  },
  {
   "cell_type": "code",
   "execution_count": 152,
   "metadata": {},
   "outputs": [
    {
     "data": {
      "text/plain": [
       "3207                                        Bosch drum belt pulley | in Cambridge, Cambridgeshire | Gumtree\n",
       "1703                                          Biodegradable Wax Melts | in West Pilton, Edinburgh | Gumtree\n",
       "3786               Learn with Paddington by Michael Bond (Hardback Book) | in Preston, Lancashire | Gumtree\n",
       "5374                                      ESTEE Lauder make up set | in Coalville, Leicestershire | Gumtree\n",
       "3217    HOOVER DYNAMIC NEXT 8KG A+++ WASHING MACHINE - 1600RPM SPIN - GOOD CONDITION - DELIVERY POSSIBLE...\n",
       "1592    Joules Womens Mary King fleece lined waterproof size 10 IMMACULATE | in Poringland, Norfolk | Gu...\n",
       "5697                            Professional Hair Dryers for women 2200W AC | in Victoria, London | Gumtree\n",
       "1043                                           Nappy Destash | in Dumfries, Dumfries and Galloway | Gumtree\n",
       "1519    Selling lots of womens clothing items; jumpers, coats, jeans, tops, shoes and more! | in Whaley ...\n",
       "6649            PlayStation 3 super slimline 500gb n games n bluerays | in Southampton, Hampshire | Gumtree\n",
       "Name: product_name, dtype: object"
      ]
     },
     "execution_count": 152,
     "metadata": {},
     "output_type": "execute_result"
    }
   ],
   "source": [
    "products['product_name'][rand_10]"
   ]
  },
  {
   "cell_type": "markdown",
   "metadata": {},
   "source": [
    "From initial observation it seems we can split the product names on the Pipe (|) and use only the first component as the data after first pipe is location which is already encoded."
   ]
  },
  {
   "cell_type": "code",
   "execution_count": 153,
   "metadata": {},
   "outputs": [
    {
     "data": {
      "text/html": [
       "<div>\n",
       "<style scoped>\n",
       "    .dataframe tbody tr th:only-of-type {\n",
       "        vertical-align: middle;\n",
       "    }\n",
       "\n",
       "    .dataframe tbody tr th {\n",
       "        vertical-align: top;\n",
       "    }\n",
       "\n",
       "    .dataframe thead th {\n",
       "        text-align: right;\n",
       "    }\n",
       "</style>\n",
       "<table border=\"1\" class=\"dataframe\">\n",
       "  <thead>\n",
       "    <tr style=\"text-align: right;\">\n",
       "      <th></th>\n",
       "      <th>0</th>\n",
       "      <th>1</th>\n",
       "      <th>2</th>\n",
       "      <th>3</th>\n",
       "      <th>4</th>\n",
       "      <th>5</th>\n",
       "      <th>6</th>\n",
       "      <th>7</th>\n",
       "      <th>8</th>\n",
       "      <th>9</th>\n",
       "      <th>10</th>\n",
       "      <th>11</th>\n",
       "      <th>12</th>\n",
       "      <th>13</th>\n",
       "      <th>14</th>\n",
       "    </tr>\n",
       "  </thead>\n",
       "  <tbody>\n",
       "    <tr>\n",
       "      <th>0</th>\n",
       "      <td>Mirror wall art</td>\n",
       "      <td>in Wokingham, Berkshire</td>\n",
       "      <td>Gumtree</td>\n",
       "      <td>None</td>\n",
       "      <td>None</td>\n",
       "      <td>None</td>\n",
       "      <td>None</td>\n",
       "      <td>None</td>\n",
       "      <td>None</td>\n",
       "      <td>None</td>\n",
       "      <td>None</td>\n",
       "      <td>None</td>\n",
       "      <td>None</td>\n",
       "      <td>None</td>\n",
       "      <td>None</td>\n",
       "    </tr>\n",
       "    <tr>\n",
       "      <th>1</th>\n",
       "      <td>Stainless Steel Food Steamer</td>\n",
       "      <td>in Inverness, Highland</td>\n",
       "      <td>Gumtree</td>\n",
       "      <td>None</td>\n",
       "      <td>None</td>\n",
       "      <td>None</td>\n",
       "      <td>None</td>\n",
       "      <td>None</td>\n",
       "      <td>None</td>\n",
       "      <td>None</td>\n",
       "      <td>None</td>\n",
       "      <td>None</td>\n",
       "      <td>None</td>\n",
       "      <td>None</td>\n",
       "      <td>None</td>\n",
       "    </tr>\n",
       "    <tr>\n",
       "      <th>2</th>\n",
       "      <td>Sun loungers</td>\n",
       "      <td>in Skegness, Lincolnshire</td>\n",
       "      <td>Gumtree</td>\n",
       "      <td>None</td>\n",
       "      <td>None</td>\n",
       "      <td>None</td>\n",
       "      <td>None</td>\n",
       "      <td>None</td>\n",
       "      <td>None</td>\n",
       "      <td>None</td>\n",
       "      <td>None</td>\n",
       "      <td>None</td>\n",
       "      <td>None</td>\n",
       "      <td>None</td>\n",
       "      <td>None</td>\n",
       "    </tr>\n",
       "    <tr>\n",
       "      <th>3</th>\n",
       "      <td>Coffee side table from Ammunition ammo box hairpin legs</td>\n",
       "      <td>in Radstock, Somerset</td>\n",
       "      <td>Gumtree</td>\n",
       "      <td>None</td>\n",
       "      <td>None</td>\n",
       "      <td>None</td>\n",
       "      <td>None</td>\n",
       "      <td>None</td>\n",
       "      <td>None</td>\n",
       "      <td>None</td>\n",
       "      <td>None</td>\n",
       "      <td>None</td>\n",
       "      <td>None</td>\n",
       "      <td>None</td>\n",
       "      <td>None</td>\n",
       "    </tr>\n",
       "    <tr>\n",
       "      <th>4</th>\n",
       "      <td>Modern Shannon Sofa for sale at low cost</td>\n",
       "      <td>in Delph, Manchester</td>\n",
       "      <td>Gumtree</td>\n",
       "      <td>None</td>\n",
       "      <td>None</td>\n",
       "      <td>None</td>\n",
       "      <td>None</td>\n",
       "      <td>None</td>\n",
       "      <td>None</td>\n",
       "      <td>None</td>\n",
       "      <td>None</td>\n",
       "      <td>None</td>\n",
       "      <td>None</td>\n",
       "      <td>None</td>\n",
       "      <td>None</td>\n",
       "    </tr>\n",
       "  </tbody>\n",
       "</table>\n",
       "</div>"
      ],
      "text/plain": [
       "                                                         0                            1         2     3     4     5     6     7     8     9     10    11    12    13    14\n",
       "0                                          Mirror wall art      in Wokingham, Berkshire    Gumtree  None  None  None  None  None  None  None  None  None  None  None  None\n",
       "1                             Stainless Steel Food Steamer       in Inverness, Highland    Gumtree  None  None  None  None  None  None  None  None  None  None  None  None\n",
       "2                                             Sun loungers    in Skegness, Lincolnshire    Gumtree  None  None  None  None  None  None  None  None  None  None  None  None\n",
       "3  Coffee side table from Ammunition ammo box hairpin legs        in Radstock, Somerset    Gumtree  None  None  None  None  None  None  None  None  None  None  None  None\n",
       "4                 Modern Shannon Sofa for sale at low cost         in Delph, Manchester    Gumtree  None  None  None  None  None  None  None  None  None  None  None  None"
      ]
     },
     "execution_count": 153,
     "metadata": {},
     "output_type": "execute_result"
    }
   ],
   "source": [
    "product_name_split = products['product_name'].str.split('|', expand=True)\n",
    "product_name_split.head(5)"
   ]
  },
  {
   "cell_type": "code",
   "execution_count": 154,
   "metadata": {},
   "outputs": [
    {
     "name": "stdout",
     "output_type": "stream",
     "text": [
      "<class 'pandas.core.frame.DataFrame'>\n",
      "RangeIndex: 6810 entries, 0 to 6809\n",
      "Data columns (total 15 columns):\n",
      " #   Column  Non-Null Count  Dtype \n",
      "---  ------  --------------  ----- \n",
      " 0   0       6810 non-null   object\n",
      " 1   1       6810 non-null   object\n",
      " 2   2       6810 non-null   object\n",
      " 3   3       21 non-null     object\n",
      " 4   4       15 non-null     object\n",
      " 5   5       3 non-null      object\n",
      " 6   6       2 non-null      object\n",
      " 7   7       2 non-null      object\n",
      " 8   8       1 non-null      object\n",
      " 9   9       1 non-null      object\n",
      " 10  10      1 non-null      object\n",
      " 11  11      1 non-null      object\n",
      " 12  12      1 non-null      object\n",
      " 13  13      1 non-null      object\n",
      " 14  14      1 non-null      object\n",
      "dtypes: object(15)\n",
      "memory usage: 798.2+ KB\n"
     ]
    }
   ],
   "source": [
    "product_name_split.info()"
   ]
  },
  {
   "cell_type": "markdown",
   "metadata": {},
   "source": [
    "Mostly NULL/repeated data values apart from first column. "
   ]
  },
  {
   "cell_type": "code",
   "execution_count": 155,
   "metadata": {},
   "outputs": [],
   "source": [
    "product_names = products['product_name'].str.split('|', expand=True)[0]"
   ]
  },
  {
   "cell_type": "code",
   "execution_count": 156,
   "metadata": {},
   "outputs": [
    {
     "data": {
      "text/plain": [
       "0                                                                                        Mirror wall art \n",
       "1                                                                           Stainless Steel Food Steamer \n",
       "2                                                                                           Sun loungers \n",
       "3                                                Coffee side table from Ammunition ammo box hairpin legs \n",
       "4                                                               Modern Shannon Sofa for sale at low cost \n",
       "5                                                                                             Spotlights \n",
       "6         💥💥White Wardrobe💥💥Brand new Wardrobe For sale in Black/White/Grey Colour **Mirrored Wardrobe** \n",
       "7                                                                                            Letter cage \n",
       "8                                                                                  Double Pine Bed Frame \n",
       "9                                                                     Solid pine dining table and chairs \n",
       "10                                         Vortex plush velvet corner or 3+2 sofa avialble fast delivery \n",
       "11                                                                                          Storage unit \n",
       "12                                                                               King Size Pine Bedframe \n",
       "13                                                        Decorative black iron water pump and sump pump \n",
       "14                                                                                 Marquee & Gazebo Hire \n",
       "15                                                                                   SOLD. Ceiling light \n",
       "16    QUALITY***CALACATTA***MARBLE***CARRARA***WHITE***SPARKLY***SALE*** GRANITE & QUARTZ Kitchen Work...\n",
       "17                                                                                            Beige Lamp \n",
       "18                                                                     SOLD: Super King bed with storage \n",
       "19                                                                                      Bathroom cabinet \n",
       "Name: 0, dtype: object"
      ]
     },
     "execution_count": 156,
     "metadata": {},
     "output_type": "execute_result"
    }
   ],
   "source": [
    "product_names.head(20)"
   ]
  },
  {
   "cell_type": "code",
   "execution_count": 108,
   "metadata": {},
   "outputs": [
    {
     "data": {
      "text/plain": [
       "0    Mirror wall art. Posted by Nisha in Dining, Living Room Furniture, Mirrors, Clocks & Ornaments i...\n",
       "1    Morphy Richard’s (model no 48755)Stainless steel 3 tier stackable food steamer9 litre capacity 1...\n",
       "2                                         I have 2 of these - collection only as I don’t drive. £20 Ono \n",
       "3    Great reclaimed army ammunition box used as coffee side table\\rOriginal text detail, latch's, le...\n",
       "4    New Design Shannon Corner sofa  5 Seater Available\\r👉 Factory Sell Price\\r👉New Amazing Design\\r ...\n",
       "Name: product_description, dtype: object"
      ]
     },
     "execution_count": 108,
     "metadata": {},
     "output_type": "execute_result"
    }
   ],
   "source": [
    "products['product_description'].head()"
   ]
  },
  {
   "cell_type": "markdown",
   "metadata": {},
   "source": [
    "Based on the above, I'll plan to use a TFIDF vectorizer on the product names and not use the product description at all yet. The product description seems very similar to the product name so may just be extra noise."
   ]
  },
  {
   "cell_type": "markdown",
   "metadata": {},
   "source": [
    "## Final Dataset:\n",
    " \n",
    "#### Implementations:\n",
    "- Drop rows with NULL\n",
    "- Clean Price: Check that price is in pounds as model is being trained on pounds. \n",
    "- Numerically encode the city into longitude and latitude.\n",
    "- Use a TFIDF vectorizer to extract features from product_name.  \n",
    "- Split Category column so the major_category is our output. \n",
    "\n",
    "\n",
    "#### Features in cleaned dataset:\n",
    "- Price\n",
    "- Longitude and latitude of location. \n",
    "- Feature vector from Vectorizer. \n",
    "- Labels for data is the major_category. \n",
    "\n",
    "\n",
    "### Things to Improve Model: \n",
    "- Extract more features from product description. \n",
    "- Impute/fill missing values to increase data and hence reduce overfitting. \n",
    "- Use minor category."
   ]
  }
 ],
 "metadata": {
  "interpreter": {
   "hash": "742eda1bdf1e218a3bb2b4bc9aaa5c450f2dcf1623d3e127dc8dee9e2156d7e1"
  },
  "kernelspec": {
   "display_name": "Python 3.9.5 ('base')",
   "language": "python",
   "name": "python3"
  },
  "language_info": {
   "codemirror_mode": {
    "name": "ipython",
    "version": 3
   },
   "file_extension": ".py",
   "mimetype": "text/x-python",
   "name": "python",
   "nbconvert_exporter": "python",
   "pygments_lexer": "ipython3",
   "version": "3.9.5"
  },
  "orig_nbformat": 4
 },
 "nbformat": 4,
 "nbformat_minor": 2
}
