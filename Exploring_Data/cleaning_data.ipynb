{
 "cells": [
  {
   "cell_type": "markdown",
   "metadata": {},
   "source": [
    "#### Exploring and Cleaning the Products Data:"
   ]
  },
  {
   "cell_type": "markdown",
   "metadata": {},
   "source": [
    "Import relevant packages:"
   ]
  },
  {
   "cell_type": "code",
   "execution_count": 41,
   "metadata": {},
   "outputs": [],
   "source": [
    "import pandas as pd\n",
    "import numpy as np\n",
    "from collections import Counter\n",
    "import copy \n",
    "import statistics\n",
    "from collections import defaultdict"
   ]
  },
  {
   "cell_type": "markdown",
   "metadata": {},
   "source": [
    "Read in Data:"
   ]
  },
  {
   "cell_type": "code",
   "execution_count": 2,
   "metadata": {},
   "outputs": [],
   "source": [
    "products = pd.read_csv('../Raw_Data/products.csv', lineterminator='\\n')"
   ]
  },
  {
   "cell_type": "markdown",
   "metadata": {},
   "source": [
    "##### Exploring Data:"
   ]
  },
  {
   "cell_type": "code",
   "execution_count": 3,
   "metadata": {},
   "outputs": [
    {
     "data": {
      "text/html": [
       "<div>\n",
       "<style scoped>\n",
       "    .dataframe tbody tr th:only-of-type {\n",
       "        vertical-align: middle;\n",
       "    }\n",
       "\n",
       "    .dataframe tbody tr th {\n",
       "        vertical-align: top;\n",
       "    }\n",
       "\n",
       "    .dataframe thead th {\n",
       "        text-align: right;\n",
       "    }\n",
       "</style>\n",
       "<table border=\"1\" class=\"dataframe\">\n",
       "  <thead>\n",
       "    <tr style=\"text-align: right;\">\n",
       "      <th></th>\n",
       "      <th>id</th>\n",
       "      <th>product_name</th>\n",
       "      <th>category</th>\n",
       "      <th>product_description</th>\n",
       "      <th>price</th>\n",
       "      <th>location</th>\n",
       "      <th>page_id</th>\n",
       "      <th>create_time</th>\n",
       "    </tr>\n",
       "  </thead>\n",
       "  <tbody>\n",
       "    <tr>\n",
       "      <th>0</th>\n",
       "      <td>ac2140ae-f0d5-4fe7-ac08-df0f109fd734</td>\n",
       "      <td>Second-Hand Sofas, Couches &amp; Armchairs for Sal...</td>\n",
       "      <td>NaN</td>\n",
       "      <td>NaN</td>\n",
       "      <td>NaN</td>\n",
       "      <td>NaN</td>\n",
       "      <td>1426592234</td>\n",
       "      <td>2022-02-26</td>\n",
       "    </tr>\n",
       "    <tr>\n",
       "      <th>1</th>\n",
       "      <td>243809c0-9cfc-4486-ad12-3b7a16605ba9</td>\n",
       "      <td>Mirror wall art | in Wokingham, Berkshire | Gu...</td>\n",
       "      <td>Home &amp; Garden / Dining, Living Room Furniture ...</td>\n",
       "      <td>Mirror wall art. Posted by Nisha in Dining, Li...</td>\n",
       "      <td>£5.00</td>\n",
       "      <td>Wokingham, Berkshire</td>\n",
       "      <td>1426704584</td>\n",
       "      <td>2022-02-26</td>\n",
       "    </tr>\n",
       "    <tr>\n",
       "      <th>2</th>\n",
       "      <td>1c58d3f9-8b93-47ea-9415-204fcc2a22e6</td>\n",
       "      <td>Stainless Steel Food Steamer | in Inverness, H...</td>\n",
       "      <td>Home &amp; Garden / Other Household Goods</td>\n",
       "      <td>Morphy Richard’s (model no 48755)Stainless ste...</td>\n",
       "      <td>£20.00</td>\n",
       "      <td>Inverness, Highland</td>\n",
       "      <td>1426704579</td>\n",
       "      <td>2022-02-26</td>\n",
       "    </tr>\n",
       "    <tr>\n",
       "      <th>3</th>\n",
       "      <td>860673f1-57f6-47ba-8d2f-13f9e05b8f9a</td>\n",
       "      <td>Sun loungers | in Skegness, Lincolnshire | Gum...</td>\n",
       "      <td>Home &amp; Garden / Garden &amp; Patio / Outdoor Setti...</td>\n",
       "      <td>I have 2 of these - collection only as I don’t...</td>\n",
       "      <td>£20.00</td>\n",
       "      <td>Skegness, Lincolnshire</td>\n",
       "      <td>1426704576</td>\n",
       "      <td>2022-02-26</td>\n",
       "    </tr>\n",
       "    <tr>\n",
       "      <th>4</th>\n",
       "      <td>59948726-29be-4b35-ade5-bb2fd7331856</td>\n",
       "      <td>Coffee side table from Ammunition ammo box hai...</td>\n",
       "      <td>Home &amp; Garden / Dining, Living Room Furniture ...</td>\n",
       "      <td>Great reclaimed army ammunition box used as co...</td>\n",
       "      <td>£115.00</td>\n",
       "      <td>Radstock, Somerset</td>\n",
       "      <td>1426704575</td>\n",
       "      <td>2022-02-26</td>\n",
       "    </tr>\n",
       "  </tbody>\n",
       "</table>\n",
       "</div>"
      ],
      "text/plain": [
       "                                     id  \\\n",
       "0  ac2140ae-f0d5-4fe7-ac08-df0f109fd734   \n",
       "1  243809c0-9cfc-4486-ad12-3b7a16605ba9   \n",
       "2  1c58d3f9-8b93-47ea-9415-204fcc2a22e6   \n",
       "3  860673f1-57f6-47ba-8d2f-13f9e05b8f9a   \n",
       "4  59948726-29be-4b35-ade5-bb2fd7331856   \n",
       "\n",
       "                                        product_name  \\\n",
       "0  Second-Hand Sofas, Couches & Armchairs for Sal...   \n",
       "1  Mirror wall art | in Wokingham, Berkshire | Gu...   \n",
       "2  Stainless Steel Food Steamer | in Inverness, H...   \n",
       "3  Sun loungers | in Skegness, Lincolnshire | Gum...   \n",
       "4  Coffee side table from Ammunition ammo box hai...   \n",
       "\n",
       "                                            category  \\\n",
       "0                                                NaN   \n",
       "1  Home & Garden / Dining, Living Room Furniture ...   \n",
       "2              Home & Garden / Other Household Goods   \n",
       "3  Home & Garden / Garden & Patio / Outdoor Setti...   \n",
       "4  Home & Garden / Dining, Living Room Furniture ...   \n",
       "\n",
       "                                 product_description    price  \\\n",
       "0                                                NaN      NaN   \n",
       "1  Mirror wall art. Posted by Nisha in Dining, Li...    £5.00   \n",
       "2  Morphy Richard’s (model no 48755)Stainless ste...   £20.00   \n",
       "3  I have 2 of these - collection only as I don’t...   £20.00   \n",
       "4  Great reclaimed army ammunition box used as co...  £115.00   \n",
       "\n",
       "                 location     page_id create_time  \n",
       "0                     NaN  1426592234  2022-02-26  \n",
       "1    Wokingham, Berkshire  1426704584  2022-02-26  \n",
       "2     Inverness, Highland  1426704579  2022-02-26  \n",
       "3  Skegness, Lincolnshire  1426704576  2022-02-26  \n",
       "4      Radstock, Somerset  1426704575  2022-02-26  "
      ]
     },
     "execution_count": 3,
     "metadata": {},
     "output_type": "execute_result"
    }
   ],
   "source": [
    "products.head()"
   ]
  },
  {
   "cell_type": "code",
   "execution_count": 4,
   "metadata": {},
   "outputs": [
    {
     "name": "stdout",
     "output_type": "stream",
     "text": [
      "<class 'pandas.core.frame.DataFrame'>\n",
      "RangeIndex: 8091 entries, 0 to 8090\n",
      "Data columns (total 8 columns):\n",
      " #   Column               Non-Null Count  Dtype \n",
      "---  ------               --------------  ----- \n",
      " 0   id                   8091 non-null   object\n",
      " 1   product_name         8091 non-null   object\n",
      " 2   category             7156 non-null   object\n",
      " 3   product_description  7156 non-null   object\n",
      " 4   price                7156 non-null   object\n",
      " 5   location             7156 non-null   object\n",
      " 6   page_id              8091 non-null   int64 \n",
      " 7   create_time          8091 non-null   object\n",
      "dtypes: int64(1), object(7)\n",
      "memory usage: 505.8+ KB\n"
     ]
    }
   ],
   "source": [
    "products.info()"
   ]
  },
  {
   "cell_type": "markdown",
   "metadata": {},
   "source": [
    "Plans/Immediate Observations:\n",
    "\n",
    "- Drop rows where any entry is null. On first glance, the Category, Price, Location and Product Description are the useful pieces of information. (Will be the features)\n",
    "- Price altered into an a float32. (Float32 as Pytorch works with Float32)\n",
    "- Could split location into 2 columns: Town and County/City. \n",
    "- The \"category\" field can be split by forward slashes as a product can be included in multiple categories. \n",
    "- Transform this notebook into a script so when new data is streamed in, can be cleaned easily. "
   ]
  },
  {
   "cell_type": "code",
   "execution_count": 5,
   "metadata": {},
   "outputs": [],
   "source": [
    "products_copy = copy.deepcopy(products)\n",
    "products = products.loc[products.isna().sum(axis=1) == 0]\n",
    "products.reset_index(inplace=True)"
   ]
  },
  {
   "cell_type": "code",
   "execution_count": 6,
   "metadata": {},
   "outputs": [
    {
     "data": {
      "text/plain": [
       "(7156, 9)"
      ]
     },
     "execution_count": 6,
     "metadata": {},
     "output_type": "execute_result"
    }
   ],
   "source": [
    "products.shape"
   ]
  },
  {
   "cell_type": "code",
   "execution_count": 7,
   "metadata": {},
   "outputs": [
    {
     "data": {
      "text/html": [
       "<div>\n",
       "<style scoped>\n",
       "    .dataframe tbody tr th:only-of-type {\n",
       "        vertical-align: middle;\n",
       "    }\n",
       "\n",
       "    .dataframe tbody tr th {\n",
       "        vertical-align: top;\n",
       "    }\n",
       "\n",
       "    .dataframe thead th {\n",
       "        text-align: right;\n",
       "    }\n",
       "</style>\n",
       "<table border=\"1\" class=\"dataframe\">\n",
       "  <thead>\n",
       "    <tr style=\"text-align: right;\">\n",
       "      <th></th>\n",
       "      <th>index</th>\n",
       "      <th>id</th>\n",
       "      <th>product_name</th>\n",
       "      <th>category</th>\n",
       "      <th>product_description</th>\n",
       "      <th>price</th>\n",
       "      <th>location</th>\n",
       "      <th>page_id</th>\n",
       "      <th>create_time</th>\n",
       "    </tr>\n",
       "  </thead>\n",
       "  <tbody>\n",
       "    <tr>\n",
       "      <th>0</th>\n",
       "      <td>1</td>\n",
       "      <td>243809c0-9cfc-4486-ad12-3b7a16605ba9</td>\n",
       "      <td>Mirror wall art | in Wokingham, Berkshire | Gu...</td>\n",
       "      <td>Home &amp; Garden / Dining, Living Room Furniture ...</td>\n",
       "      <td>Mirror wall art. Posted by Nisha in Dining, Li...</td>\n",
       "      <td>£5.00</td>\n",
       "      <td>Wokingham, Berkshire</td>\n",
       "      <td>1426704584</td>\n",
       "      <td>2022-02-26</td>\n",
       "    </tr>\n",
       "    <tr>\n",
       "      <th>1</th>\n",
       "      <td>2</td>\n",
       "      <td>1c58d3f9-8b93-47ea-9415-204fcc2a22e6</td>\n",
       "      <td>Stainless Steel Food Steamer | in Inverness, H...</td>\n",
       "      <td>Home &amp; Garden / Other Household Goods</td>\n",
       "      <td>Morphy Richard’s (model no 48755)Stainless ste...</td>\n",
       "      <td>£20.00</td>\n",
       "      <td>Inverness, Highland</td>\n",
       "      <td>1426704579</td>\n",
       "      <td>2022-02-26</td>\n",
       "    </tr>\n",
       "    <tr>\n",
       "      <th>2</th>\n",
       "      <td>3</td>\n",
       "      <td>860673f1-57f6-47ba-8d2f-13f9e05b8f9a</td>\n",
       "      <td>Sun loungers | in Skegness, Lincolnshire | Gum...</td>\n",
       "      <td>Home &amp; Garden / Garden &amp; Patio / Outdoor Setti...</td>\n",
       "      <td>I have 2 of these - collection only as I don’t...</td>\n",
       "      <td>£20.00</td>\n",
       "      <td>Skegness, Lincolnshire</td>\n",
       "      <td>1426704576</td>\n",
       "      <td>2022-02-26</td>\n",
       "    </tr>\n",
       "    <tr>\n",
       "      <th>3</th>\n",
       "      <td>4</td>\n",
       "      <td>59948726-29be-4b35-ade5-bb2fd7331856</td>\n",
       "      <td>Coffee side table from Ammunition ammo box hai...</td>\n",
       "      <td>Home &amp; Garden / Dining, Living Room Furniture ...</td>\n",
       "      <td>Great reclaimed army ammunition box used as co...</td>\n",
       "      <td>£115.00</td>\n",
       "      <td>Radstock, Somerset</td>\n",
       "      <td>1426704575</td>\n",
       "      <td>2022-02-26</td>\n",
       "    </tr>\n",
       "    <tr>\n",
       "      <th>4</th>\n",
       "      <td>5</td>\n",
       "      <td>16dbc860-696e-4cda-93f6-4dd4926573fb</td>\n",
       "      <td>Modern Shannon Sofa for sale at low cost | in ...</td>\n",
       "      <td>Home &amp; Garden / Dining, Living Room Furniture ...</td>\n",
       "      <td>New Design Shannon Corner sofa  5 Seater Avail...</td>\n",
       "      <td>£450.00</td>\n",
       "      <td>Delph, Manchester</td>\n",
       "      <td>1426704570</td>\n",
       "      <td>2022-02-26</td>\n",
       "    </tr>\n",
       "  </tbody>\n",
       "</table>\n",
       "</div>"
      ],
      "text/plain": [
       "   index                                    id  \\\n",
       "0      1  243809c0-9cfc-4486-ad12-3b7a16605ba9   \n",
       "1      2  1c58d3f9-8b93-47ea-9415-204fcc2a22e6   \n",
       "2      3  860673f1-57f6-47ba-8d2f-13f9e05b8f9a   \n",
       "3      4  59948726-29be-4b35-ade5-bb2fd7331856   \n",
       "4      5  16dbc860-696e-4cda-93f6-4dd4926573fb   \n",
       "\n",
       "                                        product_name  \\\n",
       "0  Mirror wall art | in Wokingham, Berkshire | Gu...   \n",
       "1  Stainless Steel Food Steamer | in Inverness, H...   \n",
       "2  Sun loungers | in Skegness, Lincolnshire | Gum...   \n",
       "3  Coffee side table from Ammunition ammo box hai...   \n",
       "4  Modern Shannon Sofa for sale at low cost | in ...   \n",
       "\n",
       "                                            category  \\\n",
       "0  Home & Garden / Dining, Living Room Furniture ...   \n",
       "1              Home & Garden / Other Household Goods   \n",
       "2  Home & Garden / Garden & Patio / Outdoor Setti...   \n",
       "3  Home & Garden / Dining, Living Room Furniture ...   \n",
       "4  Home & Garden / Dining, Living Room Furniture ...   \n",
       "\n",
       "                                 product_description    price  \\\n",
       "0  Mirror wall art. Posted by Nisha in Dining, Li...    £5.00   \n",
       "1  Morphy Richard’s (model no 48755)Stainless ste...   £20.00   \n",
       "2  I have 2 of these - collection only as I don’t...   £20.00   \n",
       "3  Great reclaimed army ammunition box used as co...  £115.00   \n",
       "4  New Design Shannon Corner sofa  5 Seater Avail...  £450.00   \n",
       "\n",
       "                 location     page_id create_time  \n",
       "0    Wokingham, Berkshire  1426704584  2022-02-26  \n",
       "1     Inverness, Highland  1426704579  2022-02-26  \n",
       "2  Skegness, Lincolnshire  1426704576  2022-02-26  \n",
       "3      Radstock, Somerset  1426704575  2022-02-26  \n",
       "4       Delph, Manchester  1426704570  2022-02-26  "
      ]
     },
     "execution_count": 7,
     "metadata": {},
     "output_type": "execute_result"
    }
   ],
   "source": [
    "products.head(5)"
   ]
  },
  {
   "cell_type": "markdown",
   "metadata": {},
   "source": [
    "Prices:\n",
    "\n",
    "Will use regular expressions to extract the price"
   ]
  },
  {
   "cell_type": "code",
   "execution_count": 8,
   "metadata": {},
   "outputs": [],
   "source": [
    "price_pattern = r'([0-9]*,?[0-9]+)'\n",
    "products['price'] = products['price'].str.extract(price_pattern, expand=True)\n",
    "products['price'] = products['price'].str.replace(',','')"
   ]
  },
  {
   "cell_type": "code",
   "execution_count": 9,
   "metadata": {},
   "outputs": [],
   "source": [
    "products['price'] = products['price'].astype(np.float32)"
   ]
  },
  {
   "cell_type": "code",
   "execution_count": 10,
   "metadata": {},
   "outputs": [
    {
     "data": {
      "text/plain": [
       "count      7156.000000\n",
       "mean        358.831604\n",
       "std        5392.854492\n",
       "min           0.000000\n",
       "25%          10.000000\n",
       "50%          40.000000\n",
       "75%         150.000000\n",
       "max      399900.000000\n",
       "Name: price, dtype: float64"
      ]
     },
     "execution_count": 10,
     "metadata": {},
     "output_type": "execute_result"
    }
   ],
   "source": [
    "products['price'].describe()"
   ]
  },
  {
   "cell_type": "markdown",
   "metadata": {},
   "source": [
    "Based on this: \n",
    "\n",
    "- Notice that the price is positively skewed. \n",
    "- May need to drop outlier rows where price is 0 and price is extremely high. However will leave for now. "
   ]
  },
  {
   "cell_type": "markdown",
   "metadata": {},
   "source": [
    "Location: Can split based on \",\". Whether I use location as features is unclear. Depends upon sample sizes for each town and city. "
   ]
  },
  {
   "cell_type": "code",
   "execution_count": 11,
   "metadata": {},
   "outputs": [],
   "source": [
    "location_info = products['location'].str.split(',', expand=True)\n",
    "location_info.columns = ['Town', 'City']\n",
    "town_counter, city_counter = Counter(location_info['Town']), Counter(location_info['City'])"
   ]
  },
  {
   "cell_type": "code",
   "execution_count": 12,
   "metadata": {},
   "outputs": [
    {
     "data": {
      "text/html": [
       "<div>\n",
       "<style scoped>\n",
       "    .dataframe tbody tr th:only-of-type {\n",
       "        vertical-align: middle;\n",
       "    }\n",
       "\n",
       "    .dataframe tbody tr th {\n",
       "        vertical-align: top;\n",
       "    }\n",
       "\n",
       "    .dataframe thead th {\n",
       "        text-align: right;\n",
       "    }\n",
       "</style>\n",
       "<table border=\"1\" class=\"dataframe\">\n",
       "  <thead>\n",
       "    <tr style=\"text-align: right;\">\n",
       "      <th></th>\n",
       "      <th>Town</th>\n",
       "      <th>City</th>\n",
       "    </tr>\n",
       "  </thead>\n",
       "  <tbody>\n",
       "    <tr>\n",
       "      <th>0</th>\n",
       "      <td>Wokingham</td>\n",
       "      <td>Berkshire</td>\n",
       "    </tr>\n",
       "    <tr>\n",
       "      <th>1</th>\n",
       "      <td>Inverness</td>\n",
       "      <td>Highland</td>\n",
       "    </tr>\n",
       "    <tr>\n",
       "      <th>2</th>\n",
       "      <td>Skegness</td>\n",
       "      <td>Lincolnshire</td>\n",
       "    </tr>\n",
       "    <tr>\n",
       "      <th>3</th>\n",
       "      <td>Radstock</td>\n",
       "      <td>Somerset</td>\n",
       "    </tr>\n",
       "    <tr>\n",
       "      <th>4</th>\n",
       "      <td>Delph</td>\n",
       "      <td>Manchester</td>\n",
       "    </tr>\n",
       "  </tbody>\n",
       "</table>\n",
       "</div>"
      ],
      "text/plain": [
       "        Town           City\n",
       "0  Wokingham      Berkshire\n",
       "1  Inverness       Highland\n",
       "2   Skegness   Lincolnshire\n",
       "3   Radstock       Somerset\n",
       "4      Delph     Manchester"
      ]
     },
     "execution_count": 12,
     "metadata": {},
     "output_type": "execute_result"
    }
   ],
   "source": [
    "location_info.head()"
   ]
  },
  {
   "cell_type": "markdown",
   "metadata": {},
   "source": [
    "Do some analysis on distribution of counts for each town/city to determine whether either column is suitable. Will use median as a representation of sample sizes in each category. Median less prone to extremes. "
   ]
  },
  {
   "cell_type": "code",
   "execution_count": 25,
   "metadata": {},
   "outputs": [
    {
     "name": "stdout",
     "output_type": "stream",
     "text": [
      "[('Southampton', 155), ('Downend', 108), ('Leicester', 89), ('Norwich', 83), ('Croydon', 76)]\n",
      "[(' London', 1128), (' West Midlands', 381), (' Hampshire', 323), (' Manchester', 280), (None, 255)]\n",
      "2\n",
      "34\n"
     ]
    }
   ],
   "source": [
    "print(town_counter.most_common(5))\n",
    "print(city_counter.most_common(5))\n",
    "print(statistics.median(town_counter.values()))\n",
    "print(statistics.median(city_counter.values()))"
   ]
  },
  {
   "cell_type": "markdown",
   "metadata": {},
   "source": [
    "Based on this, I think it's sensible to use the \"City\" column as a feature but not the town. Remark: we could've also used the built in Pandas method: location_info['City'].value_counts(). "
   ]
  },
  {
   "cell_type": "markdown",
   "metadata": {},
   "source": [
    "Using one hot encoding for categories with many levels, can lead to large dimensionality within our data. We know that this leads to needing more computationl power. Some note of things we can do: \n",
    "\n",
    "- Use only most frequent categories. Take top 'x', where x can be determined by a frequency distribution. ie: take the top 'x' such that 80% of the data is accounted for. \n",
    "- Use a \"Frequency Counts\" method, involves replacing the category with its frequency. Negatives of this is that categories with similar counts will be treated alike, so may lose information. "
   ]
  },
  {
   "cell_type": "code",
   "execution_count": 13,
   "metadata": {},
   "outputs": [
    {
     "data": {
      "text/html": [
       "<div>\n",
       "<style scoped>\n",
       "    .dataframe tbody tr th:only-of-type {\n",
       "        vertical-align: middle;\n",
       "    }\n",
       "\n",
       "    .dataframe tbody tr th {\n",
       "        vertical-align: top;\n",
       "    }\n",
       "\n",
       "    .dataframe thead th {\n",
       "        text-align: right;\n",
       "    }\n",
       "</style>\n",
       "<table border=\"1\" class=\"dataframe\">\n",
       "  <thead>\n",
       "    <tr style=\"text-align: right;\">\n",
       "      <th></th>\n",
       "      <th>index</th>\n",
       "      <th>id</th>\n",
       "      <th>product_name</th>\n",
       "      <th>category</th>\n",
       "      <th>product_description</th>\n",
       "      <th>price</th>\n",
       "      <th>location</th>\n",
       "      <th>page_id</th>\n",
       "      <th>create_time</th>\n",
       "    </tr>\n",
       "  </thead>\n",
       "  <tbody>\n",
       "    <tr>\n",
       "      <th>0</th>\n",
       "      <td>1</td>\n",
       "      <td>243809c0-9cfc-4486-ad12-3b7a16605ba9</td>\n",
       "      <td>Mirror wall art | in Wokingham, Berkshire | Gu...</td>\n",
       "      <td>Home &amp; Garden / Dining, Living Room Furniture ...</td>\n",
       "      <td>Mirror wall art. Posted by Nisha in Dining, Li...</td>\n",
       "      <td>5.0</td>\n",
       "      <td>Wokingham, Berkshire</td>\n",
       "      <td>1426704584</td>\n",
       "      <td>2022-02-26</td>\n",
       "    </tr>\n",
       "    <tr>\n",
       "      <th>1</th>\n",
       "      <td>2</td>\n",
       "      <td>1c58d3f9-8b93-47ea-9415-204fcc2a22e6</td>\n",
       "      <td>Stainless Steel Food Steamer | in Inverness, H...</td>\n",
       "      <td>Home &amp; Garden / Other Household Goods</td>\n",
       "      <td>Morphy Richard’s (model no 48755)Stainless ste...</td>\n",
       "      <td>20.0</td>\n",
       "      <td>Inverness, Highland</td>\n",
       "      <td>1426704579</td>\n",
       "      <td>2022-02-26</td>\n",
       "    </tr>\n",
       "    <tr>\n",
       "      <th>2</th>\n",
       "      <td>3</td>\n",
       "      <td>860673f1-57f6-47ba-8d2f-13f9e05b8f9a</td>\n",
       "      <td>Sun loungers | in Skegness, Lincolnshire | Gum...</td>\n",
       "      <td>Home &amp; Garden / Garden &amp; Patio / Outdoor Setti...</td>\n",
       "      <td>I have 2 of these - collection only as I don’t...</td>\n",
       "      <td>20.0</td>\n",
       "      <td>Skegness, Lincolnshire</td>\n",
       "      <td>1426704576</td>\n",
       "      <td>2022-02-26</td>\n",
       "    </tr>\n",
       "    <tr>\n",
       "      <th>3</th>\n",
       "      <td>4</td>\n",
       "      <td>59948726-29be-4b35-ade5-bb2fd7331856</td>\n",
       "      <td>Coffee side table from Ammunition ammo box hai...</td>\n",
       "      <td>Home &amp; Garden / Dining, Living Room Furniture ...</td>\n",
       "      <td>Great reclaimed army ammunition box used as co...</td>\n",
       "      <td>115.0</td>\n",
       "      <td>Radstock, Somerset</td>\n",
       "      <td>1426704575</td>\n",
       "      <td>2022-02-26</td>\n",
       "    </tr>\n",
       "    <tr>\n",
       "      <th>4</th>\n",
       "      <td>5</td>\n",
       "      <td>16dbc860-696e-4cda-93f6-4dd4926573fb</td>\n",
       "      <td>Modern Shannon Sofa for sale at low cost | in ...</td>\n",
       "      <td>Home &amp; Garden / Dining, Living Room Furniture ...</td>\n",
       "      <td>New Design Shannon Corner sofa  5 Seater Avail...</td>\n",
       "      <td>450.0</td>\n",
       "      <td>Delph, Manchester</td>\n",
       "      <td>1426704570</td>\n",
       "      <td>2022-02-26</td>\n",
       "    </tr>\n",
       "  </tbody>\n",
       "</table>\n",
       "</div>"
      ],
      "text/plain": [
       "   index                                    id  \\\n",
       "0      1  243809c0-9cfc-4486-ad12-3b7a16605ba9   \n",
       "1      2  1c58d3f9-8b93-47ea-9415-204fcc2a22e6   \n",
       "2      3  860673f1-57f6-47ba-8d2f-13f9e05b8f9a   \n",
       "3      4  59948726-29be-4b35-ade5-bb2fd7331856   \n",
       "4      5  16dbc860-696e-4cda-93f6-4dd4926573fb   \n",
       "\n",
       "                                        product_name  \\\n",
       "0  Mirror wall art | in Wokingham, Berkshire | Gu...   \n",
       "1  Stainless Steel Food Steamer | in Inverness, H...   \n",
       "2  Sun loungers | in Skegness, Lincolnshire | Gum...   \n",
       "3  Coffee side table from Ammunition ammo box hai...   \n",
       "4  Modern Shannon Sofa for sale at low cost | in ...   \n",
       "\n",
       "                                            category  \\\n",
       "0  Home & Garden / Dining, Living Room Furniture ...   \n",
       "1              Home & Garden / Other Household Goods   \n",
       "2  Home & Garden / Garden & Patio / Outdoor Setti...   \n",
       "3  Home & Garden / Dining, Living Room Furniture ...   \n",
       "4  Home & Garden / Dining, Living Room Furniture ...   \n",
       "\n",
       "                                 product_description  price  \\\n",
       "0  Mirror wall art. Posted by Nisha in Dining, Li...    5.0   \n",
       "1  Morphy Richard’s (model no 48755)Stainless ste...   20.0   \n",
       "2  I have 2 of these - collection only as I don’t...   20.0   \n",
       "3  Great reclaimed army ammunition box used as co...  115.0   \n",
       "4  New Design Shannon Corner sofa  5 Seater Avail...  450.0   \n",
       "\n",
       "                 location     page_id create_time  \n",
       "0    Wokingham, Berkshire  1426704584  2022-02-26  \n",
       "1     Inverness, Highland  1426704579  2022-02-26  \n",
       "2  Skegness, Lincolnshire  1426704576  2022-02-26  \n",
       "3      Radstock, Somerset  1426704575  2022-02-26  \n",
       "4       Delph, Manchester  1426704570  2022-02-26  "
      ]
     },
     "execution_count": 13,
     "metadata": {},
     "output_type": "execute_result"
    }
   ],
   "source": [
    "products.head()"
   ]
  },
  {
   "cell_type": "markdown",
   "metadata": {},
   "source": [
    "Expanding Categories: We notice that following each forward slash there's another category. We'd like the output dataset to be a one hot encoding over all these categories. "
   ]
  },
  {
   "cell_type": "markdown",
   "metadata": {},
   "source": [
    "Lets start by extracting the different categories:"
   ]
  },
  {
   "cell_type": "code",
   "execution_count": 36,
   "metadata": {},
   "outputs": [],
   "source": [
    "unclean_categories = set(products['category'])"
   ]
  },
  {
   "cell_type": "code",
   "execution_count": 59,
   "metadata": {},
   "outputs": [
    {
     "name": "stdout",
     "output_type": "stream",
     "text": [
      "435\n"
     ]
    }
   ],
   "source": [
    "print(len(unclean_categories))\n",
    "category_dict = {}"
   ]
  },
  {
   "cell_type": "code",
   "execution_count": 60,
   "metadata": {},
   "outputs": [],
   "source": [
    "for i in unclean_categories:\n",
    "    a = i.split(r'/')\n",
    "    for category in a:\n",
    "        if category in category_dict.keys():\n",
    "            continue\n",
    "        else:\n",
    "            category_dict[category] = 0 "
   ]
  },
  {
   "cell_type": "code",
   "execution_count": 61,
   "metadata": {},
   "outputs": [],
   "source": [
    "categories = set(category_dict.keys())"
   ]
  },
  {
   "cell_type": "code",
   "execution_count": 63,
   "metadata": {},
   "outputs": [
    {
     "name": "stdout",
     "output_type": "stream",
     "text": [
      "505\n"
     ]
    }
   ],
   "source": [
    "print(len(categories))"
   ]
  },
  {
   "cell_type": "code",
   "execution_count": 64,
   "metadata": {},
   "outputs": [
    {
     "name": "stdout",
     "output_type": "stream",
     "text": [
      "{' Ball & Racquet Sport Equipment ', ' Radio Communication Equipment ', ' Office & Business', ' Foot Massagers', ' Boats, Kayaks & Jet Skis ', ' Chairs, Stools & Other Seating', ' Tableware', ' Other Home Appliances', ' Food & Drink Makers', \" Men's Shoes & Boots \", ' Tablets, eBooks & eReaders', ' Motorola', ' Boots', ' Pool & Snooker', ' Other Power Tools', ' Rowing Machines ', ' Ovens, Hobs & Cookers ', ' Beds & Bedroom Furniture ', ' Video Game Cases, Covers & Bags', ' Welding Equipment', ' Car Seats & Baby Carriers', ' Other Golf Equipment', ' Other Fitness & Gym Equipment', ' Outdoor Toys ', ' Other Books, Comics & Magazines', ' Parasols & Sunshades', ' Xbox One', ' Operating Systems', ' Shaving & Hair Removal', ' Hard Drives & External Drives', ' Other Appliances', ' Shower Enclosures', ' Single Beds ', 'Office Furniture & Equipment ', ' Webcams', 'Computers & Software ', ' Video Game Accessories ', ' Nailers & Staplers', ' Protective Clothing & Workwear', ' Sega', ' Screws & Fixings', ' Pilates', ' Supplies, Equipment & Stationery ', ' Graphic Tablets & Pens', \" Men's Watches\", \" Other Men's Clothing\", ' Mattresses ', ' Roofing & Ventilation', ' Dining, Living Room Furniture ', ' Other Garden Building & Decoration', ' Wedding Dresses', ' Hair Care & Styling', ' Batteries', ' Electric Toothbrushes', ' Nursery Furniture', ' Bookshelves', ' Cases & Covers', \" Men's Wallets\", ' Restaurant & Catering Equipment', ' Sun Care & Tanning', ' Scrapbooking, Sewing, Art, Craft', ' Cash Registers & Supplies', ' Planers', ' Snowboards, Boots & Bindings', ' Shower Fixtures ', ' Hoodies & Sweats', ' Cookware ', ' Video Game Controllers', ' Skis, Boots, Bindings & Poles', ' Wigs, Extensions & Supplies', ' Picnicware', ' Business Cases', ' Fridge Freezers', ' Bathtubs', \" Women's Accessories \", ' Health Grills', ' Soldering Equipment', ' Surfboards & Windsurfs', 'Amateur Radios', ' Music ', ' Lawnmowers & Trimmers', 'Other Goods ', ' SIM Cards', ' Greenhouse', ' Shorts', ' Cold Drink Preparation ', 'Video Games & Consoles ', ' Toilets', ' Other Ovens, Hobs & Cookers', \" Women's Shoes \", ' Holders & Mounts', ' Audio Docks & Speakers', ' Mannequins', ' Plaster & Plasterboard', ' Games', ' Kids Accessories', ' Heating, Fires & Surrounds', ' Dresses', ' Bridesmaid Dresses', \" Men's Trainers\", ' Skirts', ' Bags', ' Kids Clothes, Shoes & Accessories ', ' Printers & Scanners', ' Purses & Wallets', ' Shelving & Racking', ' JTX Fitness', ' Lamps, Lights & Shades', ' Wet Dry Vacuums', ' CDs', ' Rowing Machines', ' Bathroom Suites', ' Bundle of Clothes', ' Barbeques & Outdoor Heaters ', ' Rod & Reel Combos', ' Double Beds ', ' Changing Bags', ' Health & Beauty Appliances ', ' Chairs', ' Tumble Dryers', \" Men's Clothing \", ' Bathroom Taps & Mixers', ' Suitcases', ' Video Cards & Sound Cards', ' Inline Skates & Skateboards', ' Laptop Batteries', ' PS5 (Sony PlayStation 5)', ' Bedside Tables', ' Bricks, Blocks & Lintels', ' Baby & Child Safety ', 'Baby & Kids Stuff ', ' Garden Power Tools ', ' Treadmills ', ' Backpacks', ' Shoes & Boots', ' Clothing & Accessories', ' Clamps & Vices', ' Hammers & Mallets', 'Home & Garden ', ' Power Tools ', ' Image, Video & Audio Editing', ' Blu-rays', ' Laptop Cases & Bags', ' Breast Pumps', ' Video Game Accessory Bundles', ' Consoles ', ' Breadmakers', ' Wetsuits & Accessories', ' Desks & Tables', ' Aquariums', ' Generators', ' Laundry Accessories ', ' Gaming Merchandise', ' Washer Dryers', ' Freezers', ' Books', \" Women's Bags & Handbags\", ' Toys', ' Mice, Trackballs & Touchpads', ' Bathroom Fixtures ', ' Bath Panels', ' Concrete Mixers', ' Hobs', ' Antennas', ' Packaging & Mailing Supplies ', ' Cement, Mortar & Aggregates', ' Flats', ' Other Hand Tools', ' Other Office Equipment', ' Bath & Body', ' Retail Display', ' Facial Skin Care', \" Men's Casual Shoes\", ' Luggage & Travel Equipment ', ' Other Music, Films, Books & Games', ' Hand Tools ', ' Prams & Strollers', ' Toasters', ' Other Baby & Child Safety', \" Nursery & Children's Furniture \", ' Saws', ' Computers, Laptops & Netbooks ', ' Jumpers & Cardigans', ' Microwave Ovens', ' Coffee table', ' Shredders', ' Doors & Windows', ' Baby Walkers', ' Baby Clothes', ' Yoga & Pilates ', ' Shower Heads', ' Small Appliances ', ' Watches', \" Men's Sandals & Beach Shoes\", ' Calculators', ' Desktop & Workstation PCs', \" Other Women's Accessories\", ' Hair Removal & Waxing Appliances ', ' Hats', ' Boats', ' Garden Building & Decoration ', ' Samsung', ' Storage & Filing Cabinets', ' Other Music', ' Magazines', ' Cross Trainers', \" Other Women's Clothing\", ' Body Sculpture', ' Grinders', ' Other Building Materials', ' Mirrors, Clocks & Ornaments', 'Health & Beauty ', ' Curtains, Blinds & Windows', ' Coasters', ' Drones', ' Films & TV ', ' Casual Shirts & Tops', ' Other Retail & Shop Fittings', ' Protective Gear', ' Sinks & Basins', ' Bicycles', ' Freestanding', ' Home Appliances ', ' Air Purifiers & Dehumidifiers', ' Irons & Ironing Boards', ' Other Radio Equipment', ' Kitchenware & Accessories ', ' Garden & Patio Furniture ', ' Bundles', ' Camping & Hiking ', ' Changing ', ' Tattoo & Body Art', ' Sets', ' Projectors', ' Electric Showers', ' Hobbies, Interests & Collectibles', ' Hair Straighteners', ' Feeding ', ' Gloves', ' T-Shirts', ' Hair Care & Styling Appliances ', \" Other Kids' Clothes\", ' Kitchen', ' Other Changing', ' Golf Equipment ', ' Advertising & Shop Signs', ' Exercise Bikes', ' PS3 (Sony PlayStation 3)', ' Linen & Bedding', ' Sony Ericsson', ' Carpets & Flooring', ' Gazebos & Awnings', ' Comics', ' Keyboard & Mouse Bundles', ' Other Feeding', ' Other Sports & Leisure', ' Air Conditioners & Fans for Sale', ' Other Garden Hand Tools', \" Men's Bags, Rucksacks & Satchels\", ' Other Furniture', ' Baskets', ' Ceramic Tiles', ' Office Furniture ', ' ProForm', ' Cookers ', ' Trainers', ' Fitness & Gym Equipment ', ' Barbeques', ' Clubs', ' Other Laptop & Desktop Accessories', ' Baby Bouncers, Rockers & Swings ', ' Fences', ' Jeans & Trousers', ' Spanners & Wrenches', ' Swimwear & Bathing Suits', ' Garden Shredders', ' Towel Radiators', ' Bridal Accessories', ' Dishwashers', ' Kettles', ' Cricket', ' Pots & Pans', ' Food Blenders', ' Scooters', ' Benches', ' Lighting & Fittings', ' Tents', ' Other Video Games & Consoles', ' DVDs', ' PC Laptops & Netbooks', \" Men's Ties & Cravats\", \" Men's Accessories \", ' Refrigerators', ' Sandals & Beach Shoes', ' Garden Hand Tools ', ' Dinnerware & Crockery', ' Business For Sale', ' Xbox 360 & Xbox', ' Jumpsuits & Playsuits', ' Mobile Phone Accessories ', ' Bread Bins', ' Other', ' Ladders & Handtrucks', ' Reels', ' Cots & Beds', ' Power Tool Sets', ' Kettles & Toasters ', ' Teapots & Cafetiers', ' Coffee Machines', ' Building Materials ', ' Health Care', ' Headsets', ' Other Kitchen Storage', ' Drills', ' Building Chemicals', ' Jeans', ' Cribs & Bassinets', ' Football', ' Electric scooters', ' Routers', ' Sailing Equipment', ' Desk Supplies & Equipment', ' Not specified', ' Fishing Equipment ', ' Other Bathroom Fixtures', ' Retail & Shop Fittings ', ' Other Packing & Mailing Supplies', ' Laptop Docking Stations', ' Jewellery', ' Baby Bouncers', ' Kitchen Storage ', ' Other Garden Furniture', ' Other Phones & Accessories', ' Paintings & Pictures', ' PS4 (Sony Playstation 4)', ' Dumbbells', ' Weight Plates', ' Swings', ' Gates & Guards', ' PSP (Sony PlayStation Portable)', ' Dental Care', ' Dental Care Appliances ', ' Range', ' Insulation', ' Other Keyboard, Mice & Input Devices', ' Vacuum Cleaners', ' Mobility, Disability & Medical', ' Paving', \" Men's Boots\", ' Juicers', ' Oven & Hob Accessories', ' Mother of the Bride', ' Cables & Adapters', ' Tops & Shirts', ' VHS Tapes', ' Smart Watch', ' Fancy Dress & Period Costume', ' Plants & Flowers', ' Pressure Washers', ' Lawn Mowers', ' Home Phones & Answering Machines ', ' Sandpits & Water Toys', ' John Lewis', ' High Chairs', ' Ultrasport', ' Nintendo DS & DSi', ' Fragrances', ' Trousers', ' Plumbing & Central Heating', ' Chisels, Planes & Surform', ' Mobile Phones ', ' Water Sports ', ' Make Up & Cosmetics', ' Treadmills', ' Diet & Weight Loss', ' Health & Beauty', ' Sunglasses', ' Other Bedroom Furniture & Accs', ' Boxing & Martial Arts Equipment ', ' Other Accessories', ' Toilets, Toilet Seats & Bidets ', \" Other Women's Shoes\", ' Hedge Trimmers', ' Microwave Cookware', ' Printers', ' Other Small Appliances', ' Apple iPhone', \" Men's Sunglasses\", ' Dressers & Chests', ' Wood & Timber', ' Manicure & Pedicure', ' Nintendo 3DS', ' Fitness Equipment ', ' Business', ' Nokia', ' Drinks Makers', ' Outdoor Settings & Furniture', ' Cassettes', ' Integrated Appliances', ' Activewear', ' Ham', ' Wine Racks & Barware', ' Apple Laptops', ' Laptop Accessories ', 'Phones, Mobile Phones & Telecoms ', ' Other Video Game Accessories', \" Men's Belts\", ' Pots & Ornaments', ' Water Filters & Cartridges', ' Other Software', ' Sterilisers', ' Electric bikes', ' Vibration Plates', ' Wheelbarrows & Trolleys', ' Washing Machines', ' Monitors & Projectors ', ' Monitors', ' Other Household Goods', 'Clothes, Footwear & Accessories ', ' Winter Sports ', ' Hand Tool Sets & Kits', ' Canister & Containers', ' Antiques', ' Accessory Bundles', \" Other Men's Shoes & Boots\", ' PDAs, Handhelds & Accessories', ' Greenhouses, Sheds & Gazebos', ' Cooker Hoods & Splashbacks', ' Books, Comics & Magazines ', ' Scanners & Copiers', ' Software ', 'Music, Films, Books & Games ', ' Nintendo Wii', ' Belts', ' Nintendo Wii U', ' Food Processors', ' Punch Bags', ' Dining Tables & Chairs', ' Sofas, Armchairs & Suites ', ' PS2 & PS1 (Sony PlayStation 2 & 1)', ' Trimline', ' Private', ' Polishers', 'Appliances ', ' Coats & Jackets', ' Hoses', ' Envelopes', ' Chargers & Docks', ' Bicycle Accessories', ' Ink Cartridges & Toners', ' Memory, Motherboards & Processors', ' Air Compressors', ' Weights ', ' Glassware', ' Massage Products', ' Modems, Broadband & Networking', ' Tiles', ' Massage & Relaxation Appliances ', ' Food Mixers', ' Blenders, Processors & Mixers ', ' Servers', ' Vitamins & Supplements', ' Grass Trimmers', ' Cups & Mugs', ' Sheet Materials', ' Wood Burners', ' Keyboards & Keypads', ' Carts & Trolleys', ' Vinyl', ' Sheds', ' Laptop & Desktop Chargers & Adapters', ' Chainsaws', ' Wardrobes, Shelving & Storage ', ' Balls', ' Exercise Bikes ', ' Mens Shavers', ' Fascinators & Headpieces', 'DIY Tools & Materials ', \" Women's Clothing \", ' Screen Protectors', ' Sofa Beds & Futons ', ' Heels', ' Secateurs & Pruners', ' Wedding Clothes & Accessories ', ' Tennis, Squash & Badminton', ' Other Outdoor Toys', ' Kids Coats & Jackets', 'Sports, Leisure & Travel ', ' Keyboards, Mice & Input Devices ', ' Tableware ', ' Leaf Blowers & Vacuums', ' Other Consoles', ' Games & Board Games', ' Nightwear & Pyjamas', ' Garden & Patio ', ' Other Fishing Equipment', ' Guttering & Drainage', ' Tablet, eBook & eReader Accessories ', ' Rods', ' Chests & Trunks', ' Sports Bags', ' Slow Cookers', ' Tool Storage & Workbenches', ' Camping Gear', ' Other Garden & Patio'}\n"
     ]
    }
   ],
   "source": [
    "print(categories)"
   ]
  },
  {
   "cell_type": "code",
   "execution_count": null,
   "metadata": {},
   "outputs": [],
   "source": []
  }
 ],
 "metadata": {
  "interpreter": {
   "hash": "742eda1bdf1e218a3bb2b4bc9aaa5c450f2dcf1623d3e127dc8dee9e2156d7e1"
  },
  "kernelspec": {
   "display_name": "Python 3.9.5 ('base')",
   "language": "python",
   "name": "python3"
  },
  "language_info": {
   "codemirror_mode": {
    "name": "ipython",
    "version": 3
   },
   "file_extension": ".py",
   "mimetype": "text/x-python",
   "name": "python",
   "nbconvert_exporter": "python",
   "pygments_lexer": "ipython3",
   "version": "3.9.5"
  },
  "orig_nbformat": 4
 },
 "nbformat": 4,
 "nbformat_minor": 2
}
