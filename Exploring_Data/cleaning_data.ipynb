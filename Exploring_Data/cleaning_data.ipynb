{
 "cells": [
  {
   "cell_type": "markdown",
   "metadata": {},
   "source": [
    "#### Exploring and Cleaning the Products Data:"
   ]
  },
  {
   "cell_type": "markdown",
   "metadata": {},
   "source": [
    "Import relevant packages:"
   ]
  },
  {
   "cell_type": "code",
   "execution_count": 13,
   "metadata": {},
   "outputs": [],
   "source": [
    "import pandas as pd\n",
    "import numpy as np"
   ]
  },
  {
   "cell_type": "markdown",
   "metadata": {},
   "source": [
    "Read in Data:"
   ]
  },
  {
   "cell_type": "code",
   "execution_count": 2,
   "metadata": {},
   "outputs": [],
   "source": [
    "products = pd.read_csv('../Raw_Data/products.csv', lineterminator='\\n')"
   ]
  },
  {
   "cell_type": "markdown",
   "metadata": {},
   "source": [
    "##### Exploring Data:"
   ]
  },
  {
   "cell_type": "code",
   "execution_count": 3,
   "metadata": {},
   "outputs": [
    {
     "data": {
      "text/html": [
       "<div>\n",
       "<style scoped>\n",
       "    .dataframe tbody tr th:only-of-type {\n",
       "        vertical-align: middle;\n",
       "    }\n",
       "\n",
       "    .dataframe tbody tr th {\n",
       "        vertical-align: top;\n",
       "    }\n",
       "\n",
       "    .dataframe thead th {\n",
       "        text-align: right;\n",
       "    }\n",
       "</style>\n",
       "<table border=\"1\" class=\"dataframe\">\n",
       "  <thead>\n",
       "    <tr style=\"text-align: right;\">\n",
       "      <th></th>\n",
       "      <th>id</th>\n",
       "      <th>product_name</th>\n",
       "      <th>category</th>\n",
       "      <th>product_description</th>\n",
       "      <th>price</th>\n",
       "      <th>location</th>\n",
       "      <th>page_id</th>\n",
       "      <th>create_time</th>\n",
       "    </tr>\n",
       "  </thead>\n",
       "  <tbody>\n",
       "    <tr>\n",
       "      <th>0</th>\n",
       "      <td>ac2140ae-f0d5-4fe7-ac08-df0f109fd734</td>\n",
       "      <td>Second-Hand Sofas, Couches &amp; Armchairs for Sal...</td>\n",
       "      <td>NaN</td>\n",
       "      <td>NaN</td>\n",
       "      <td>NaN</td>\n",
       "      <td>NaN</td>\n",
       "      <td>1426592234</td>\n",
       "      <td>2022-02-26</td>\n",
       "    </tr>\n",
       "    <tr>\n",
       "      <th>1</th>\n",
       "      <td>243809c0-9cfc-4486-ad12-3b7a16605ba9</td>\n",
       "      <td>Mirror wall art | in Wokingham, Berkshire | Gu...</td>\n",
       "      <td>Home &amp; Garden / Dining, Living Room Furniture ...</td>\n",
       "      <td>Mirror wall art. Posted by Nisha in Dining, Li...</td>\n",
       "      <td>£5.00</td>\n",
       "      <td>Wokingham, Berkshire</td>\n",
       "      <td>1426704584</td>\n",
       "      <td>2022-02-26</td>\n",
       "    </tr>\n",
       "    <tr>\n",
       "      <th>2</th>\n",
       "      <td>1c58d3f9-8b93-47ea-9415-204fcc2a22e6</td>\n",
       "      <td>Stainless Steel Food Steamer | in Inverness, H...</td>\n",
       "      <td>Home &amp; Garden / Other Household Goods</td>\n",
       "      <td>Morphy Richard’s (model no 48755)Stainless ste...</td>\n",
       "      <td>£20.00</td>\n",
       "      <td>Inverness, Highland</td>\n",
       "      <td>1426704579</td>\n",
       "      <td>2022-02-26</td>\n",
       "    </tr>\n",
       "    <tr>\n",
       "      <th>3</th>\n",
       "      <td>860673f1-57f6-47ba-8d2f-13f9e05b8f9a</td>\n",
       "      <td>Sun loungers | in Skegness, Lincolnshire | Gum...</td>\n",
       "      <td>Home &amp; Garden / Garden &amp; Patio / Outdoor Setti...</td>\n",
       "      <td>I have 2 of these - collection only as I don’t...</td>\n",
       "      <td>£20.00</td>\n",
       "      <td>Skegness, Lincolnshire</td>\n",
       "      <td>1426704576</td>\n",
       "      <td>2022-02-26</td>\n",
       "    </tr>\n",
       "    <tr>\n",
       "      <th>4</th>\n",
       "      <td>59948726-29be-4b35-ade5-bb2fd7331856</td>\n",
       "      <td>Coffee side table from Ammunition ammo box hai...</td>\n",
       "      <td>Home &amp; Garden / Dining, Living Room Furniture ...</td>\n",
       "      <td>Great reclaimed army ammunition box used as co...</td>\n",
       "      <td>£115.00</td>\n",
       "      <td>Radstock, Somerset</td>\n",
       "      <td>1426704575</td>\n",
       "      <td>2022-02-26</td>\n",
       "    </tr>\n",
       "  </tbody>\n",
       "</table>\n",
       "</div>"
      ],
      "text/plain": [
       "                                     id  \\\n",
       "0  ac2140ae-f0d5-4fe7-ac08-df0f109fd734   \n",
       "1  243809c0-9cfc-4486-ad12-3b7a16605ba9   \n",
       "2  1c58d3f9-8b93-47ea-9415-204fcc2a22e6   \n",
       "3  860673f1-57f6-47ba-8d2f-13f9e05b8f9a   \n",
       "4  59948726-29be-4b35-ade5-bb2fd7331856   \n",
       "\n",
       "                                        product_name  \\\n",
       "0  Second-Hand Sofas, Couches & Armchairs for Sal...   \n",
       "1  Mirror wall art | in Wokingham, Berkshire | Gu...   \n",
       "2  Stainless Steel Food Steamer | in Inverness, H...   \n",
       "3  Sun loungers | in Skegness, Lincolnshire | Gum...   \n",
       "4  Coffee side table from Ammunition ammo box hai...   \n",
       "\n",
       "                                            category  \\\n",
       "0                                                NaN   \n",
       "1  Home & Garden / Dining, Living Room Furniture ...   \n",
       "2              Home & Garden / Other Household Goods   \n",
       "3  Home & Garden / Garden & Patio / Outdoor Setti...   \n",
       "4  Home & Garden / Dining, Living Room Furniture ...   \n",
       "\n",
       "                                 product_description    price  \\\n",
       "0                                                NaN      NaN   \n",
       "1  Mirror wall art. Posted by Nisha in Dining, Li...    £5.00   \n",
       "2  Morphy Richard’s (model no 48755)Stainless ste...   £20.00   \n",
       "3  I have 2 of these - collection only as I don’t...   £20.00   \n",
       "4  Great reclaimed army ammunition box used as co...  £115.00   \n",
       "\n",
       "                 location     page_id create_time  \n",
       "0                     NaN  1426592234  2022-02-26  \n",
       "1    Wokingham, Berkshire  1426704584  2022-02-26  \n",
       "2     Inverness, Highland  1426704579  2022-02-26  \n",
       "3  Skegness, Lincolnshire  1426704576  2022-02-26  \n",
       "4      Radstock, Somerset  1426704575  2022-02-26  "
      ]
     },
     "execution_count": 3,
     "metadata": {},
     "output_type": "execute_result"
    }
   ],
   "source": [
    "products.head()"
   ]
  },
  {
   "cell_type": "code",
   "execution_count": 4,
   "metadata": {},
   "outputs": [
    {
     "name": "stdout",
     "output_type": "stream",
     "text": [
      "<class 'pandas.core.frame.DataFrame'>\n",
      "RangeIndex: 8091 entries, 0 to 8090\n",
      "Data columns (total 8 columns):\n",
      " #   Column               Non-Null Count  Dtype \n",
      "---  ------               --------------  ----- \n",
      " 0   id                   8091 non-null   object\n",
      " 1   product_name         8091 non-null   object\n",
      " 2   category             7156 non-null   object\n",
      " 3   product_description  7156 non-null   object\n",
      " 4   price                7156 non-null   object\n",
      " 5   location             7156 non-null   object\n",
      " 6   page_id              8091 non-null   int64 \n",
      " 7   create_time          8091 non-null   object\n",
      "dtypes: int64(1), object(7)\n",
      "memory usage: 505.8+ KB\n"
     ]
    }
   ],
   "source": [
    "products.info()"
   ]
  },
  {
   "cell_type": "markdown",
   "metadata": {},
   "source": [
    "Plans/Immediate Observations:\n",
    "\n",
    "- Drop rows where any entry is null. On first glance, the Category, Price, Location and Product Description are the useful pieces of information. (Will be the features)\n",
    "- Price altered into an a float32. (Float32 as Pytorch works with Float32)\n",
    "- Worth splitting location into 2 columns: Town and County/City. \n",
    "- The \"category\" field can be split by forward slashes as a product can be included in multiple categories. \n",
    "- Transform this notebook into a script so when new data is streamed in, can be cleaned easily. "
   ]
  },
  {
   "cell_type": "code",
   "execution_count": 5,
   "metadata": {},
   "outputs": [],
   "source": [
    "products = products.loc[products.isna().sum(axis=1) == 0]"
   ]
  },
  {
   "cell_type": "code",
   "execution_count": 6,
   "metadata": {},
   "outputs": [
    {
     "data": {
      "text/plain": [
       "(7156, 8)"
      ]
     },
     "execution_count": 6,
     "metadata": {},
     "output_type": "execute_result"
    }
   ],
   "source": [
    "products.shape"
   ]
  },
  {
   "cell_type": "code",
   "execution_count": 7,
   "metadata": {},
   "outputs": [
    {
     "data": {
      "text/html": [
       "<div>\n",
       "<style scoped>\n",
       "    .dataframe tbody tr th:only-of-type {\n",
       "        vertical-align: middle;\n",
       "    }\n",
       "\n",
       "    .dataframe tbody tr th {\n",
       "        vertical-align: top;\n",
       "    }\n",
       "\n",
       "    .dataframe thead th {\n",
       "        text-align: right;\n",
       "    }\n",
       "</style>\n",
       "<table border=\"1\" class=\"dataframe\">\n",
       "  <thead>\n",
       "    <tr style=\"text-align: right;\">\n",
       "      <th></th>\n",
       "      <th>id</th>\n",
       "      <th>product_name</th>\n",
       "      <th>category</th>\n",
       "      <th>product_description</th>\n",
       "      <th>price</th>\n",
       "      <th>location</th>\n",
       "      <th>page_id</th>\n",
       "      <th>create_time</th>\n",
       "    </tr>\n",
       "  </thead>\n",
       "  <tbody>\n",
       "    <tr>\n",
       "      <th>1</th>\n",
       "      <td>243809c0-9cfc-4486-ad12-3b7a16605ba9</td>\n",
       "      <td>Mirror wall art | in Wokingham, Berkshire | Gu...</td>\n",
       "      <td>Home &amp; Garden / Dining, Living Room Furniture ...</td>\n",
       "      <td>Mirror wall art. Posted by Nisha in Dining, Li...</td>\n",
       "      <td>£5.00</td>\n",
       "      <td>Wokingham, Berkshire</td>\n",
       "      <td>1426704584</td>\n",
       "      <td>2022-02-26</td>\n",
       "    </tr>\n",
       "    <tr>\n",
       "      <th>2</th>\n",
       "      <td>1c58d3f9-8b93-47ea-9415-204fcc2a22e6</td>\n",
       "      <td>Stainless Steel Food Steamer | in Inverness, H...</td>\n",
       "      <td>Home &amp; Garden / Other Household Goods</td>\n",
       "      <td>Morphy Richard’s (model no 48755)Stainless ste...</td>\n",
       "      <td>£20.00</td>\n",
       "      <td>Inverness, Highland</td>\n",
       "      <td>1426704579</td>\n",
       "      <td>2022-02-26</td>\n",
       "    </tr>\n",
       "    <tr>\n",
       "      <th>3</th>\n",
       "      <td>860673f1-57f6-47ba-8d2f-13f9e05b8f9a</td>\n",
       "      <td>Sun loungers | in Skegness, Lincolnshire | Gum...</td>\n",
       "      <td>Home &amp; Garden / Garden &amp; Patio / Outdoor Setti...</td>\n",
       "      <td>I have 2 of these - collection only as I don’t...</td>\n",
       "      <td>£20.00</td>\n",
       "      <td>Skegness, Lincolnshire</td>\n",
       "      <td>1426704576</td>\n",
       "      <td>2022-02-26</td>\n",
       "    </tr>\n",
       "    <tr>\n",
       "      <th>4</th>\n",
       "      <td>59948726-29be-4b35-ade5-bb2fd7331856</td>\n",
       "      <td>Coffee side table from Ammunition ammo box hai...</td>\n",
       "      <td>Home &amp; Garden / Dining, Living Room Furniture ...</td>\n",
       "      <td>Great reclaimed army ammunition box used as co...</td>\n",
       "      <td>£115.00</td>\n",
       "      <td>Radstock, Somerset</td>\n",
       "      <td>1426704575</td>\n",
       "      <td>2022-02-26</td>\n",
       "    </tr>\n",
       "    <tr>\n",
       "      <th>5</th>\n",
       "      <td>16dbc860-696e-4cda-93f6-4dd4926573fb</td>\n",
       "      <td>Modern Shannon Sofa for sale at low cost | in ...</td>\n",
       "      <td>Home &amp; Garden / Dining, Living Room Furniture ...</td>\n",
       "      <td>New Design Shannon Corner sofa  5 Seater Avail...</td>\n",
       "      <td>£450.00</td>\n",
       "      <td>Delph, Manchester</td>\n",
       "      <td>1426704570</td>\n",
       "      <td>2022-02-26</td>\n",
       "    </tr>\n",
       "  </tbody>\n",
       "</table>\n",
       "</div>"
      ],
      "text/plain": [
       "                                     id  \\\n",
       "1  243809c0-9cfc-4486-ad12-3b7a16605ba9   \n",
       "2  1c58d3f9-8b93-47ea-9415-204fcc2a22e6   \n",
       "3  860673f1-57f6-47ba-8d2f-13f9e05b8f9a   \n",
       "4  59948726-29be-4b35-ade5-bb2fd7331856   \n",
       "5  16dbc860-696e-4cda-93f6-4dd4926573fb   \n",
       "\n",
       "                                        product_name  \\\n",
       "1  Mirror wall art | in Wokingham, Berkshire | Gu...   \n",
       "2  Stainless Steel Food Steamer | in Inverness, H...   \n",
       "3  Sun loungers | in Skegness, Lincolnshire | Gum...   \n",
       "4  Coffee side table from Ammunition ammo box hai...   \n",
       "5  Modern Shannon Sofa for sale at low cost | in ...   \n",
       "\n",
       "                                            category  \\\n",
       "1  Home & Garden / Dining, Living Room Furniture ...   \n",
       "2              Home & Garden / Other Household Goods   \n",
       "3  Home & Garden / Garden & Patio / Outdoor Setti...   \n",
       "4  Home & Garden / Dining, Living Room Furniture ...   \n",
       "5  Home & Garden / Dining, Living Room Furniture ...   \n",
       "\n",
       "                                 product_description    price  \\\n",
       "1  Mirror wall art. Posted by Nisha in Dining, Li...    £5.00   \n",
       "2  Morphy Richard’s (model no 48755)Stainless ste...   £20.00   \n",
       "3  I have 2 of these - collection only as I don’t...   £20.00   \n",
       "4  Great reclaimed army ammunition box used as co...  £115.00   \n",
       "5  New Design Shannon Corner sofa  5 Seater Avail...  £450.00   \n",
       "\n",
       "                 location     page_id create_time  \n",
       "1    Wokingham, Berkshire  1426704584  2022-02-26  \n",
       "2     Inverness, Highland  1426704579  2022-02-26  \n",
       "3  Skegness, Lincolnshire  1426704576  2022-02-26  \n",
       "4      Radstock, Somerset  1426704575  2022-02-26  \n",
       "5       Delph, Manchester  1426704570  2022-02-26  "
      ]
     },
     "execution_count": 7,
     "metadata": {},
     "output_type": "execute_result"
    }
   ],
   "source": [
    "products.head(5)"
   ]
  },
  {
   "cell_type": "markdown",
   "metadata": {},
   "source": [
    "Prices:\n",
    "\n",
    "Will use regular expressions to extract the price"
   ]
  },
  {
   "cell_type": "code",
   "execution_count": 11,
   "metadata": {},
   "outputs": [],
   "source": [
    "price_pattern = r'([0-9]*,?[0-9]+)'\n",
    "products['price'] = products['price'].str.extract(price_pattern, expand=True)\n",
    "products['price'] = products['price'].str.replace(',','')"
   ]
  },
  {
   "cell_type": "code",
   "execution_count": 14,
   "metadata": {},
   "outputs": [],
   "source": [
    "products['price'] = products['price'].astype(np.float32)"
   ]
  },
  {
   "cell_type": "code",
   "execution_count": 16,
   "metadata": {},
   "outputs": [
    {
     "data": {
      "text/plain": [
       "count      7156.000000\n",
       "mean        358.831604\n",
       "std        5392.854492\n",
       "min           0.000000\n",
       "25%          10.000000\n",
       "50%          40.000000\n",
       "75%         150.000000\n",
       "max      399900.000000\n",
       "Name: price, dtype: float64"
      ]
     },
     "execution_count": 16,
     "metadata": {},
     "output_type": "execute_result"
    }
   ],
   "source": [
    "products['price'].describe()"
   ]
  },
  {
   "cell_type": "markdown",
   "metadata": {},
   "source": [
    "Based on this: \n",
    "\n",
    "- Notice that the price is positively skewed. \n",
    "- May need to drop outlier rows where price is 0 and price is extremely high. However will leave for now. "
   ]
  }
 ],
 "metadata": {
  "interpreter": {
   "hash": "742eda1bdf1e218a3bb2b4bc9aaa5c450f2dcf1623d3e127dc8dee9e2156d7e1"
  },
  "kernelspec": {
   "display_name": "Python 3.9.5 ('base')",
   "language": "python",
   "name": "python3"
  },
  "language_info": {
   "codemirror_mode": {
    "name": "ipython",
    "version": 3
   },
   "file_extension": ".py",
   "mimetype": "text/x-python",
   "name": "python",
   "nbconvert_exporter": "python",
   "pygments_lexer": "ipython3",
   "version": "3.9.5"
  },
  "orig_nbformat": 4
 },
 "nbformat": 4,
 "nbformat_minor": 2
}
